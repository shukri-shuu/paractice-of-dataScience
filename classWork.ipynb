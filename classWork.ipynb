{
 "cells": [
  {
   "cell_type": "code",
   "execution_count": 57,
   "id": "5c1221b5",
   "metadata": {},
   "outputs": [],
   "source": [
    "import statistics as stat\n",
    "import pandas as pd\n",
    "import numpy as np"
   ]
  },
  {
   "cell_type": "code",
   "execution_count": 58,
   "id": "a4ad86b9",
   "metadata": {},
   "outputs": [],
   "source": [
    "data = [52, 45, 58, 46, 23, 74, 47, 85, 69, 30, 28, 19, 39, 64, 66, 99, 88, 22, 43, 75, 36]"
   ]
  },
  {
   "cell_type": "code",
   "execution_count": 59,
   "id": "8e922ba9",
   "metadata": {},
   "outputs": [
    {
     "name": "stdout",
     "output_type": "stream",
     "text": [
      "[52, 45, 58, 46, 23, 74, 47, 85, 69, 30, 28, 19, 39, 64, 66, 99, 88, 22, 43, 75, 36]\n"
     ]
    }
   ],
   "source": [
    "print(data)"
   ]
  },
  {
   "cell_type": "code",
   "execution_count": 60,
   "id": "5e526527",
   "metadata": {},
   "outputs": [],
   "source": [
    "\n",
    "# Convert the list to a Pandas DataFrame\n",
    "df = pd.DataFrame(data, columns=['Salary'])"
   ]
  },
  {
   "cell_type": "code",
   "execution_count": 61,
   "id": "238eca7f",
   "metadata": {},
   "outputs": [],
   "source": [
    "# Shape of the data\n",
    "shape = df.shape"
   ]
  },
  {
   "cell_type": "code",
   "execution_count": 62,
   "id": "d808a5c2",
   "metadata": {},
   "outputs": [
    {
     "name": "stdout",
     "output_type": "stream",
     "text": [
      "Shape of data: (21, 1)\n"
     ]
    }
   ],
   "source": [
    "print(\"Shape of data:\", shape)"
   ]
  },
  {
   "cell_type": "code",
   "execution_count": 63,
   "id": "3536f84c",
   "metadata": {},
   "outputs": [],
   "source": [
    "num_rows = shape[0]"
   ]
  },
  {
   "cell_type": "code",
   "execution_count": 64,
   "id": "20467893",
   "metadata": {},
   "outputs": [
    {
     "name": "stdout",
     "output_type": "stream",
     "text": [
      "Number of rows: 21\n"
     ]
    }
   ],
   "source": [
    "print(\"Number of rows:\", num_rows)"
   ]
  },
  {
   "cell_type": "code",
   "execution_count": 65,
   "id": "80ce868d",
   "metadata": {},
   "outputs": [],
   "source": [
    "num_columns = shape[1]"
   ]
  },
  {
   "cell_type": "code",
   "execution_count": 66,
   "id": "50e2c7ed",
   "metadata": {},
   "outputs": [
    {
     "name": "stdout",
     "output_type": "stream",
     "text": [
      "Number of columns: 1\n"
     ]
    }
   ],
   "source": [
    "print(\"Number of columns:\", num_columns)"
   ]
  },
  {
   "cell_type": "code",
   "execution_count": 67,
   "id": "d59fc310",
   "metadata": {},
   "outputs": [],
   "source": [
    "# Type of data\n",
    "data_type = type(df)"
   ]
  },
  {
   "cell_type": "code",
   "execution_count": 68,
   "id": "e538d5e6",
   "metadata": {},
   "outputs": [
    {
     "name": "stdout",
     "output_type": "stream",
     "text": [
      "Type of data: <class 'pandas.core.frame.DataFrame'>\n"
     ]
    }
   ],
   "source": [
    "print(\"Type of data:\", data_type)"
   ]
  },
  {
   "cell_type": "code",
   "execution_count": 69,
   "id": "3e3af6eb",
   "metadata": {},
   "outputs": [],
   "source": [
    "# Data types of columns\n",
    "column_data_types = df.dtypes"
   ]
  },
  {
   "cell_type": "code",
   "execution_count": 70,
   "id": "7e061b2d",
   "metadata": {},
   "outputs": [
    {
     "name": "stdout",
     "output_type": "stream",
     "text": [
      "Data types of columns:\n",
      " Salary    int64\n",
      "dtype: object\n"
     ]
    }
   ],
   "source": [
    "print(\"Data types of columns:\\n\", column_data_types)"
   ]
  },
  {
   "cell_type": "code",
   "execution_count": 71,
   "id": "648a633a",
   "metadata": {},
   "outputs": [],
   "source": [
    "\n",
    "# Column names\n",
    "column_names = df.columns"
   ]
  },
  {
   "cell_type": "code",
   "execution_count": 72,
   "id": "2668e86f",
   "metadata": {},
   "outputs": [
    {
     "name": "stdout",
     "output_type": "stream",
     "text": [
      "Column names: Index(['Salary'], dtype='object')\n"
     ]
    }
   ],
   "source": [
    "print(\"Column names:\", column_names)"
   ]
  },
  {
   "cell_type": "code",
   "execution_count": 73,
   "id": "69d952ac",
   "metadata": {},
   "outputs": [
    {
     "name": "stdout",
     "output_type": "stream",
     "text": [
      "Average salary: 52.76190476190476\n"
     ]
    }
   ],
   "source": [
    "average_salary = df['Salary'].mean()\n",
    "print(\"Average salary:\", average_salary)"
   ]
  },
  {
   "cell_type": "code",
   "execution_count": 74,
   "id": "6a565e2c",
   "metadata": {},
   "outputs": [
    {
     "name": "stdout",
     "output_type": "stream",
     "text": [
      "Highest salary: 99\n",
      "Lowest salary: 19\n"
     ]
    }
   ],
   "source": [
    "highest_salary = df['Salary'].max()\n",
    "lowest_salary = df['Salary'].min()\n",
    "print(\"Highest salary:\", highest_salary)\n",
    "print(\"Lowest salary:\", lowest_salary)"
   ]
  },
  {
   "cell_type": "code",
   "execution_count": 75,
   "id": "a956ce20",
   "metadata": {},
   "outputs": [
    {
     "name": "stdout",
     "output_type": "stream",
     "text": [
      "Number of salaries above $50,000: 0\n"
     ]
    }
   ],
   "source": [
    "threshold = 50000\n",
    "salaries_above_threshold = df[df['Salary'] > threshold].shape[0]\n",
    "print(\"Number of salaries above $50,000:\", salaries_above_threshold)"
   ]
  },
  {
   "cell_type": "code",
   "execution_count": 76,
   "id": "b9e5adec",
   "metadata": {},
   "outputs": [
    {
     "name": "stdout",
     "output_type": "stream",
     "text": [
      "Median salary: 47.0\n"
     ]
    }
   ],
   "source": [
    "median_salary = df['Salary'].median()\n",
    "print(\"Median salary:\", median_salary)"
   ]
  },
  {
   "cell_type": "code",
   "execution_count": 77,
   "id": "7f9415d0",
   "metadata": {},
   "outputs": [
    {
     "name": "stdout",
     "output_type": "stream",
     "text": [
      "Top 5 highest salaries:\n",
      "    Salary\n",
      "15      99\n",
      "16      88\n",
      "7       85\n",
      "19      75\n",
      "5       74\n"
     ]
    }
   ],
   "source": [
    "N = 5\n",
    "top_N_salaries = df.nlargest(N, 'Salary')\n",
    "print(\"Top\", N, \"highest salaries:\")\n",
    "print(top_N_salaries)"
   ]
  },
  {
   "cell_type": "code",
   "execution_count": 78,
   "id": "c4d1f963",
   "metadata": {},
   "outputs": [
    {
     "ename": "SyntaxError",
     "evalue": "invalid syntax (2166512426.py, line 3)",
     "output_type": "error",
     "traceback": [
      "\u001b[1;36m  Cell \u001b[1;32mIn[78], line 3\u001b[1;36m\u001b[0m\n\u001b[1;33m    salaries_within_range = df```python\u001b[0m\n\u001b[1;37m                              ^\u001b[0m\n\u001b[1;31mSyntaxError\u001b[0m\u001b[1;31m:\u001b[0m invalid syntax\n"
     ]
    }
   ],
   "source": [
    "range_start = 40000\n",
    "range_end = 60000\n",
    "salaries_within_range = df```python\n",
    "range_start = 40000\n",
    "range_end = 60000\n",
    "salaries_within_range = df[(df['Salary'] >= range_start) & (df['Salary'] <= range_end)].shape[0]\n",
    "print(\"Number of salaries within the range $40,000 - $60,000:\", salaries_within_range)"
   ]
  },
  {
   "cell_type": "code",
   "execution_count": 79,
   "id": "e1161ad3",
   "metadata": {},
   "outputs": [
    {
     "name": "stdout",
     "output_type": "stream",
     "text": [
      "Standard deviation of salaries: 23.201087823429233\n"
     ]
    }
   ],
   "source": [
    "std_deviation_salary = df['Salary'].std()\n",
    "print(\"Standard deviation of salaries:\", std_deviation_salary)"
   ]
  },
  {
   "cell_type": "code",
   "execution_count": null,
   "id": "b9ea9995",
   "metadata": {},
   "outputs": [],
   "source": []
  }
 ],
 "metadata": {
  "kernelspec": {
   "display_name": "Python 3 (ipykernel)",
   "language": "python",
   "name": "python3"
  },
  "language_info": {
   "codemirror_mode": {
    "name": "ipython",
    "version": 3
   },
   "file_extension": ".py",
   "mimetype": "text/x-python",
   "name": "python",
   "nbconvert_exporter": "python",
   "pygments_lexer": "ipython3",
   "version": "3.11.4"
  }
 },
 "nbformat": 4,
 "nbformat_minor": 5
}
