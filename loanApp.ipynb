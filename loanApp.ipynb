{
 "cells": [
  {
   "cell_type": "code",
   "execution_count": 1,
   "id": "60f71f27",
   "metadata": {},
   "outputs": [],
   "source": [
    "import pandas as pd"
   ]
  },
  {
   "cell_type": "code",
   "execution_count": 5,
   "id": "0f68c0d9",
   "metadata": {},
   "outputs": [],
   "source": [
    "df = pd.read_csv('loanapplications.csv')"
   ]
  },
  {
   "cell_type": "code",
   "execution_count": 93,
   "id": "7b017a62",
   "metadata": {
    "scrolled": true
   },
   "outputs": [
    {
     "data": {
      "text/html": [
       "<div>\n",
       "<style scoped>\n",
       "    .dataframe tbody tr th:only-of-type {\n",
       "        vertical-align: middle;\n",
       "    }\n",
       "\n",
       "    .dataframe tbody tr th {\n",
       "        vertical-align: top;\n",
       "    }\n",
       "\n",
       "    .dataframe thead th {\n",
       "        text-align: right;\n",
       "    }\n",
       "</style>\n",
       "<table border=\"1\" class=\"dataframe\">\n",
       "  <thead>\n",
       "    <tr style=\"text-align: right;\">\n",
       "      <th></th>\n",
       "      <th>married</th>\n",
       "      <th>race</th>\n",
       "      <th>loan_decision</th>\n",
       "      <th>occupancy</th>\n",
       "      <th>loan_amount</th>\n",
       "      <th>applicant_income</th>\n",
       "      <th>num_units</th>\n",
       "      <th>num_dependants</th>\n",
       "      <th>self_employed</th>\n",
       "      <th>monthly_income</th>\n",
       "      <th>purchase_price</th>\n",
       "      <th>liquid_assets</th>\n",
       "      <th>mortage_payment_history</th>\n",
       "      <th>consumer_credit_history</th>\n",
       "      <th>filed_bankruptcy</th>\n",
       "      <th>property_type</th>\n",
       "      <th>gender</th>\n",
       "    </tr>\n",
       "  </thead>\n",
       "  <tbody>\n",
       "    <tr>\n",
       "      <th>0</th>\n",
       "      <td>True</td>\n",
       "      <td>white</td>\n",
       "      <td>reject</td>\n",
       "      <td>1</td>\n",
       "      <td>128</td>\n",
       "      <td>74</td>\n",
       "      <td>1.0</td>\n",
       "      <td>1.0</td>\n",
       "      <td>False</td>\n",
       "      <td>4583</td>\n",
       "      <td>160.0</td>\n",
       "      <td>52.0</td>\n",
       "      <td>2</td>\n",
       "      <td>2</td>\n",
       "      <td>False</td>\n",
       "      <td>2</td>\n",
       "      <td>male</td>\n",
       "    </tr>\n",
       "    <tr>\n",
       "      <th>1</th>\n",
       "      <td>False</td>\n",
       "      <td>white</td>\n",
       "      <td>approve</td>\n",
       "      <td>1</td>\n",
       "      <td>128</td>\n",
       "      <td>84</td>\n",
       "      <td>1.0</td>\n",
       "      <td>0.0</td>\n",
       "      <td>False</td>\n",
       "      <td>2666</td>\n",
       "      <td>143.0</td>\n",
       "      <td>37.0</td>\n",
       "      <td>2</td>\n",
       "      <td>2</td>\n",
       "      <td>False</td>\n",
       "      <td>2</td>\n",
       "      <td>male</td>\n",
       "    </tr>\n",
       "    <tr>\n",
       "      <th>2</th>\n",
       "      <td>True</td>\n",
       "      <td>white</td>\n",
       "      <td>approve</td>\n",
       "      <td>1</td>\n",
       "      <td>66</td>\n",
       "      <td>36</td>\n",
       "      <td>1.0</td>\n",
       "      <td>0.0</td>\n",
       "      <td>True</td>\n",
       "      <td>3000</td>\n",
       "      <td>110.0</td>\n",
       "      <td>19.0</td>\n",
       "      <td>2</td>\n",
       "      <td>6</td>\n",
       "      <td>True</td>\n",
       "      <td>2</td>\n",
       "      <td>male</td>\n",
       "    </tr>\n",
       "    <tr>\n",
       "      <th>3</th>\n",
       "      <td>True</td>\n",
       "      <td>white</td>\n",
       "      <td>approve</td>\n",
       "      <td>1</td>\n",
       "      <td>120</td>\n",
       "      <td>59</td>\n",
       "      <td>1.0</td>\n",
       "      <td>0.0</td>\n",
       "      <td>False</td>\n",
       "      <td>2583</td>\n",
       "      <td>134.0</td>\n",
       "      <td>31.0</td>\n",
       "      <td>2</td>\n",
       "      <td>1</td>\n",
       "      <td>False</td>\n",
       "      <td>1</td>\n",
       "      <td>male</td>\n",
       "    </tr>\n",
       "    <tr>\n",
       "      <th>4</th>\n",
       "      <td>False</td>\n",
       "      <td>white</td>\n",
       "      <td>approve</td>\n",
       "      <td>1</td>\n",
       "      <td>111</td>\n",
       "      <td>63</td>\n",
       "      <td>1.0</td>\n",
       "      <td>0.0</td>\n",
       "      <td>False</td>\n",
       "      <td>2208</td>\n",
       "      <td>138.0</td>\n",
       "      <td>169.0</td>\n",
       "      <td>2</td>\n",
       "      <td>6</td>\n",
       "      <td>False</td>\n",
       "      <td>2</td>\n",
       "      <td>male</td>\n",
       "    </tr>\n",
       "  </tbody>\n",
       "</table>\n",
       "</div>"
      ],
      "text/plain": [
       "  married   race loan_decision  occupancy  loan_amount  applicant_income  \\\n",
       "0    True  white        reject          1          128                74   \n",
       "1   False  white       approve          1          128                84   \n",
       "2    True  white       approve          1           66                36   \n",
       "3    True  white       approve          1          120                59   \n",
       "4   False  white       approve          1          111                63   \n",
       "\n",
       "   num_units  num_dependants  self_employed  monthly_income  purchase_price  \\\n",
       "0        1.0             1.0          False            4583           160.0   \n",
       "1        1.0             0.0          False            2666           143.0   \n",
       "2        1.0             0.0           True            3000           110.0   \n",
       "3        1.0             0.0          False            2583           134.0   \n",
       "4        1.0             0.0          False            2208           138.0   \n",
       "\n",
       "   liquid_assets  mortage_payment_history  consumer_credit_history  \\\n",
       "0           52.0                        2                        2   \n",
       "1           37.0                        2                        2   \n",
       "2           19.0                        2                        6   \n",
       "3           31.0                        2                        1   \n",
       "4          169.0                        2                        6   \n",
       "\n",
       "   filed_bankruptcy  property_type gender  \n",
       "0             False              2   male  \n",
       "1             False              2   male  \n",
       "2              True              2   male  \n",
       "3             False              1   male  \n",
       "4             False              2   male  "
      ]
     },
     "execution_count": 93,
     "metadata": {},
     "output_type": "execute_result"
    }
   ],
   "source": [
    "df.head(5)"
   ]
  },
  {
   "cell_type": "markdown",
   "id": "a6b8e9e9",
   "metadata": {},
   "source": [
    "\n",
    "\n",
    "\n",
    "# Guud ahaan inta daynta laga diiday"
   ]
  },
  {
   "cell_type": "code",
   "execution_count": 26,
   "id": "bfed6135",
   "metadata": {},
   "outputs": [
    {
     "data": {
      "text/plain": [
       "244"
      ]
     },
     "execution_count": 26,
     "metadata": {},
     "output_type": "execute_result"
    }
   ],
   "source": [
    "rejectedLoanOnes = df[df['loan_decision'] == \"reject\"]\n",
    "len(rejectedLoanOnes)"
   ]
  },
  {
   "cell_type": "markdown",
   "id": "b4072633",
   "metadata": {},
   "source": [
    "# Guud ahaan inta deynta laga yeelay"
   ]
  },
  {
   "cell_type": "code",
   "execution_count": 28,
   "id": "f9fed99a",
   "metadata": {},
   "outputs": [
    {
     "data": {
      "text/plain": [
       "1744"
      ]
     },
     "execution_count": 28,
     "metadata": {},
     "output_type": "execute_result"
    }
   ],
   "source": [
    "approvedLoanOnes = df[df['loan_decision'] == \"approve\"]\n",
    "len(approvedLoanOnes)"
   ]
  },
  {
   "cell_type": "markdown",
   "id": "b1d605c8",
   "metadata": {},
   "source": [
    "# white-ka laga diiday deynta"
   ]
  },
  {
   "cell_type": "code",
   "execution_count": 72,
   "id": "51181c8d",
   "metadata": {},
   "outputs": [
    {
     "data": {
      "text/plain": [
       "154"
      ]
     },
     "execution_count": 72,
     "metadata": {},
     "output_type": "execute_result"
    }
   ],
   "source": [
    "rejectedLoanFromWhite = df[(df['race'] == 'white') & (df['loan_decision'] == \"reject\")]\n",
    "len(rejectedLoanFromWhite)"
   ]
  },
  {
   "cell_type": "markdown",
   "id": "96a32de9",
   "metadata": {},
   "source": [
    "# white-ka laga yeelay deynta"
   ]
  },
  {
   "cell_type": "code",
   "execution_count": 75,
   "id": "e215d1ba",
   "metadata": {},
   "outputs": [
    {
     "data": {
      "text/plain": [
       "1526"
      ]
     },
     "execution_count": 75,
     "metadata": {},
     "output_type": "execute_result"
    }
   ],
   "source": [
    "approvedLoanFromWhite = df[(df['race'] == 'white') & (df['loan_decision'] == \"approve\")]\n",
    "len(approvedLoanFromWhite)"
   ]
  },
  {
   "cell_type": "markdown",
   "id": "64cc8da1",
   "metadata": {},
   "source": [
    "# black-ga laga diiday deynta"
   ]
  },
  {
   "cell_type": "code",
   "execution_count": 78,
   "id": "6a8c2999",
   "metadata": {},
   "outputs": [
    {
     "data": {
      "text/plain": [
       "64"
      ]
     },
     "execution_count": 78,
     "metadata": {},
     "output_type": "execute_result"
    }
   ],
   "source": [
    "rejectedLoanFromBlack = df[(df['race'] == 'black') & (df['loan_decision'] == \"reject\")]\n",
    "len(rejectedLoanFromBlack)"
   ]
  },
  {
   "cell_type": "markdown",
   "id": "9d2a95bd",
   "metadata": {},
   "source": [
    "# Black-ga laga yeelay deynta"
   ]
  },
  {
   "cell_type": "code",
   "execution_count": 84,
   "id": "7cf3aaab",
   "metadata": {},
   "outputs": [
    {
     "data": {
      "text/plain": [
       "133"
      ]
     },
     "execution_count": 84,
     "metadata": {},
     "output_type": "execute_result"
    }
   ],
   "source": [
    "approvedLoanFromBlack = df[(df['race'] == 'black') & (df['loan_decision'] == 'approve')]\n",
    "len(approvedLoanFromBlack)"
   ]
  },
  {
   "cell_type": "markdown",
   "id": "781eb4c3",
   "metadata": {},
   "source": [
    "# Imisaa Haween ahan"
   ]
  },
  {
   "cell_type": "code",
   "execution_count": 86,
   "id": "6da64784",
   "metadata": {},
   "outputs": [
    {
     "data": {
      "text/plain": [
       "369"
      ]
     },
     "execution_count": 86,
     "metadata": {},
     "output_type": "execute_result"
    }
   ],
   "source": [
    "female = df[df['gender'] == 'female']\n",
    "len(female)"
   ]
  },
  {
   "cell_type": "markdown",
   "id": "c5be9e09",
   "metadata": {},
   "source": [
    "# Imisaa Rag ahan"
   ]
  },
  {
   "cell_type": "code",
   "execution_count": 91,
   "id": "49e9bfa8",
   "metadata": {},
   "outputs": [
    {
     "data": {
      "text/plain": [
       "1605"
      ]
     },
     "execution_count": 91,
     "metadata": {},
     "output_type": "execute_result"
    }
   ],
   "source": [
    "male = df[df['gender'] == 'male']\n",
    "len(male)"
   ]
  },
  {
   "cell_type": "markdown",
   "id": "f27b185e",
   "metadata": {},
   "source": [
    "# Dadka guursaday ee deynta laga yeelay"
   ]
  },
  {
   "cell_type": "code",
   "execution_count": 1,
   "id": "4e67fb88",
   "metadata": {},
   "outputs": [
    {
     "ename": "NameError",
     "evalue": "name 'df' is not defined",
     "output_type": "error",
     "traceback": [
      "\u001b[1;31m---------------------------------------------------------------------------\u001b[0m",
      "\u001b[1;31mNameError\u001b[0m                                 Traceback (most recent call last)",
      "Cell \u001b[1;32mIn[1], line 1\u001b[0m\n\u001b[1;32m----> 1\u001b[0m approvedLoanFromMarried \u001b[38;5;241m=\u001b[39m df[(df[\u001b[38;5;124m'\u001b[39m\u001b[38;5;124mmarried\u001b[39m\u001b[38;5;124m'\u001b[39m] \u001b[38;5;241m==\u001b[39m \u001b[38;5;28;01mTrue\u001b[39;00m) \u001b[38;5;241m&\u001b[39m (df[\u001b[38;5;124m'\u001b[39m\u001b[38;5;124mloan_decision\u001b[39m\u001b[38;5;124m'\u001b[39m] \u001b[38;5;241m==\u001b[39m \u001b[38;5;124m\"\u001b[39m\u001b[38;5;124mapprove\u001b[39m\u001b[38;5;124m\"\u001b[39m)]\n\u001b[0;32m      2\u001b[0m \u001b[38;5;28mlen\u001b[39m(approvedLoanFromMarried)\n",
      "\u001b[1;31mNameError\u001b[0m: name 'df' is not defined"
     ]
    }
   ],
   "source": [
    "approvedLoanFromMarried = df[(df['married'] == True) & (df['loan_decision'] == \"approve\")]\n",
    "len(approvedLoanFromMarried)"
   ]
  },
  {
   "cell_type": "markdown",
   "id": "ca219162",
   "metadata": {},
   "source": [
    "# Dadka guursaday ee laga diiday deynta"
   ]
  },
  {
   "cell_type": "code",
   "execution_count": 98,
   "id": "fa215755",
   "metadata": {},
   "outputs": [
    {
     "data": {
      "text/plain": [
       "142"
      ]
     },
     "execution_count": 98,
     "metadata": {},
     "output_type": "execute_result"
    }
   ],
   "source": [
    "rejectedLoanFromMarried = df[(df['married'] == True) & (df['loan_decision'] == \"reject\")]\n",
    "len(rejectedLoanFromMarried)"
   ]
  },
  {
   "cell_type": "markdown",
   "id": "6bb8656c",
   "metadata": {},
   "source": [
    "# haweenka guursaday ee deynta laga aqbalay"
   ]
  },
  {
   "cell_type": "code",
   "execution_count": 113,
   "id": "57bdde82",
   "metadata": {},
   "outputs": [
    {
     "data": {
      "text/plain": [
       "102"
      ]
     },
     "execution_count": 113,
     "metadata": {},
     "output_type": "execute_result"
    }
   ],
   "source": [
    "marriedFemaleFromApprovedLoan = df[(df['married'] == True) & (df['gender'] == 'female') & (df['loan_decision'] == 'approve')]\n",
    "len(marriedFemaleFromApprovedLoan)"
   ]
  },
  {
   "cell_type": "markdown",
   "id": "b2fc26fa",
   "metadata": {},
   "source": [
    "# haweenka guursaday ee deynta laga diiday"
   ]
  },
  {
   "cell_type": "code",
   "execution_count": 115,
   "id": "9cdcfbd7",
   "metadata": {},
   "outputs": [
    {
     "data": {
      "text/plain": [
       "14"
      ]
     },
     "execution_count": 115,
     "metadata": {},
     "output_type": "execute_result"
    }
   ],
   "source": [
    "marriedFemaleFromRejectedLoan = df[(df['married'] == True) & (df['gender'] == 'female') & (df['loan_decision'] == 'reject')]\n",
    "len(marriedFemaleFromRejectedLoan)"
   ]
  },
  {
   "cell_type": "markdown",
   "id": "28734fc6",
   "metadata": {},
   "source": [
    "# Raga Guursaday ee deynta laga aqbalay"
   ]
  },
  {
   "cell_type": "code",
   "execution_count": 116,
   "id": "a5be7c07",
   "metadata": {},
   "outputs": [
    {
     "data": {
      "text/plain": [
       "128"
      ]
     },
     "execution_count": 116,
     "metadata": {},
     "output_type": "execute_result"
    }
   ],
   "source": [
    "marriedMaleFromApprovedLoan = df[(df['married'] == True) & (df['gender'] == 'male')  & (df['loan_decision'] == 'reject')]\n",
    "len(marriedMaleFromApprovedLoan)"
   ]
  },
  {
   "cell_type": "markdown",
   "id": "bb5f4ad3",
   "metadata": {},
   "source": [
    "# Raga guursaday ee deynta laga diiday"
   ]
  },
  {
   "cell_type": "code",
   "execution_count": 117,
   "id": "9ae96576",
   "metadata": {},
   "outputs": [
    {
     "data": {
      "text/plain": [
       "1056"
      ]
     },
     "execution_count": 117,
     "metadata": {},
     "output_type": "execute_result"
    }
   ],
   "source": [
    "marriedMaleFromRejectedLoan = df[(df['married'] == True) & (df['gender'] == 'male')  & (df['loan_decision'] == 'approve')]\n",
    "len(marriedMaleFromRejectedLoan)"
   ]
  },
  {
   "cell_type": "markdown",
   "id": "225e824c",
   "metadata": {},
   "source": [
    "# Qofka heysto monthly income-ka ugu badan"
   ]
  },
  {
   "cell_type": "code",
   "execution_count": 126,
   "id": "4122208c",
   "metadata": {},
   "outputs": [
    {
     "data": {
      "text/plain": [
       "81000"
      ]
     },
     "execution_count": 126,
     "metadata": {},
     "output_type": "execute_result"
    }
   ],
   "source": [
    "IdxmaximumMonthlyIncome = df['monthly_income'].idxmax()\n",
    "maximumMonthlyIncome = df.loc[IdxmaximumMonthlyIncome]\n",
    "maximumMonthlyIncome.monthly_income"
   ]
  },
  {
   "cell_type": "markdown",
   "id": "58353166",
   "metadata": {},
   "source": [
    "# Qofka ugu yar Monthly income"
   ]
  },
  {
   "cell_type": "code",
   "execution_count": 130,
   "id": "855966f5",
   "metadata": {},
   "outputs": [
    {
     "data": {
      "text/plain": [
       "0"
      ]
     },
     "execution_count": 130,
     "metadata": {},
     "output_type": "execute_result"
    }
   ],
   "source": [
    "IdxminimumMonthlyIncome = df['monthly_income'].idxmin()\n",
    "minimumMonthlyIncome = df.loc[IdxminimumMonthlyIncome]\n",
    "minimumMonthlyIncome.monthly_income"
   ]
  },
  {
   "cell_type": "markdown",
   "id": "3d3f82ea",
   "metadata": {},
   "source": [
    "# dadka guursaday qofka ugu badan monthly income"
   ]
  },
  {
   "cell_type": "code",
   "execution_count": 131,
   "id": "9ea5bdd7",
   "metadata": {},
   "outputs": [
    {
     "data": {
      "text/plain": [
       "81000"
      ]
     },
     "execution_count": 131,
     "metadata": {},
     "output_type": "execute_result"
    }
   ],
   "source": [
    "IdxMarriedmaximumMonthlyIncome = df['monthly_income'][df['married'] == True].idxmax()\n",
    "maximumMarriedMonthlyIncome = df.loc[IdxMarriedmaximumMonthlyIncome]\n",
    "maximumMarriedMonthlyIncome.monthly_income"
   ]
  },
  {
   "cell_type": "markdown",
   "id": "abe3fa66",
   "metadata": {},
   "source": [
    "# dadka aan guursanin qofka ugu badan monthly income"
   ]
  },
  {
   "cell_type": "code",
   "execution_count": 132,
   "id": "9d6c7836",
   "metadata": {},
   "outputs": [
    {
     "data": {
      "text/plain": [
       "37719"
      ]
     },
     "execution_count": 132,
     "metadata": {},
     "output_type": "execute_result"
    }
   ],
   "source": [
    "IdxSinglemaximumMonthlyIncome = df['monthly_income'][df['married'] == False].idxmax()\n",
    "maximumSingleMonthlyIncome = df.loc[IdxSinglemaximumMonthlyIncome]\n",
    "maximumSingleMonthlyIncome.monthly_income"
   ]
  },
  {
   "cell_type": "markdown",
   "id": "9c33df95",
   "metadata": {},
   "source": [
    "# Qofka ugu badan raga monthly Income-ka"
   ]
  },
  {
   "cell_type": "code",
   "execution_count": 133,
   "id": "e3b604b6",
   "metadata": {},
   "outputs": [
    {
     "data": {
      "text/plain": [
       "81000"
      ]
     },
     "execution_count": 133,
     "metadata": {},
     "output_type": "execute_result"
    }
   ],
   "source": [
    "IdxMalemaximumMonthlyIncome = df['monthly_income'][df['gender'] == 'male'].idxmax()\n",
    "maximumMaleMonthlyIncome = df.loc[IdxMalemaximumMonthlyIncome]\n",
    "maximumMaleMonthlyIncome.monthly_income"
   ]
  },
  {
   "cell_type": "markdown",
   "id": "7022cadc",
   "metadata": {},
   "source": [
    " # Qofka ugu badan haweenka monthly Income-ka"
   ]
  },
  {
   "cell_type": "code",
   "execution_count": 135,
   "id": "6bccdcd9",
   "metadata": {},
   "outputs": [
    {
     "data": {
      "text/plain": [
       "25750"
      ]
     },
     "execution_count": 135,
     "metadata": {},
     "output_type": "execute_result"
    }
   ],
   "source": [
    "IdxFemalemaximumMonthlyIncome = df['monthly_income'][df['gender'] == 'female'].idxmax()\n",
    "maximumFemaleMonthlyIncome = df.loc[IdxFemalemaximumMonthlyIncome]\n",
    "maximumFemaleMonthlyIncome.monthly_income"
   ]
  },
  {
   "cell_type": "code",
   "execution_count": null,
   "id": "c16f0d70",
   "metadata": {},
   "outputs": [],
   "source": []
  }
 ],
 "metadata": {
  "kernelspec": {
   "display_name": "Python 3 (ipykernel)",
   "language": "python",
   "name": "python3"
  },
  "language_info": {
   "codemirror_mode": {
    "name": "ipython",
    "version": 3
   },
   "file_extension": ".py",
   "mimetype": "text/x-python",
   "name": "python",
   "nbconvert_exporter": "python",
   "pygments_lexer": "ipython3",
   "version": "3.11.4"
  }
 },
 "nbformat": 4,
 "nbformat_minor": 5
}
