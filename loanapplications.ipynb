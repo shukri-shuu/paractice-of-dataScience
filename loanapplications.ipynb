{
 "cells": [
  {
   "cell_type": "markdown",
   "id": "4c45b881",
   "metadata": {},
   "source": [
    "##   Name: Shukri Abdullahi Mohamed    Class: CA208    ID: C120446"
   ]
  },
  {
   "cell_type": "code",
   "execution_count": 1,
   "id": "25145dd2",
   "metadata": {},
   "outputs": [],
   "source": [
    "import statistics as stat\n",
    "import pandas as pd\n",
    "import numpy as np"
   ]
  },
  {
   "cell_type": "code",
   "execution_count": 2,
   "id": "9c5c934c",
   "metadata": {},
   "outputs": [],
   "source": [
    "df=pd.read_csv(\"loanapplications.csv\")"
   ]
  },
  {
   "cell_type": "code",
   "execution_count": 3,
   "id": "fc93c91e",
   "metadata": {},
   "outputs": [
    {
     "data": {
      "text/html": [
       "<div>\n",
       "<style scoped>\n",
       "    .dataframe tbody tr th:only-of-type {\n",
       "        vertical-align: middle;\n",
       "    }\n",
       "\n",
       "    .dataframe tbody tr th {\n",
       "        vertical-align: top;\n",
       "    }\n",
       "\n",
       "    .dataframe thead th {\n",
       "        text-align: right;\n",
       "    }\n",
       "</style>\n",
       "<table border=\"1\" class=\"dataframe\">\n",
       "  <thead>\n",
       "    <tr style=\"text-align: right;\">\n",
       "      <th></th>\n",
       "      <th>married</th>\n",
       "      <th>race</th>\n",
       "      <th>loan_decision</th>\n",
       "      <th>occupancy</th>\n",
       "      <th>loan_amount</th>\n",
       "      <th>applicant_income</th>\n",
       "      <th>num_units</th>\n",
       "      <th>num_dependants</th>\n",
       "      <th>self_employed</th>\n",
       "      <th>monthly_income</th>\n",
       "      <th>purchase_price</th>\n",
       "      <th>liquid_assets</th>\n",
       "      <th>mortage_payment_history</th>\n",
       "      <th>consumer_credit_history</th>\n",
       "      <th>filed_bankruptcy</th>\n",
       "      <th>property_type</th>\n",
       "      <th>gender</th>\n",
       "    </tr>\n",
       "  </thead>\n",
       "  <tbody>\n",
       "    <tr>\n",
       "      <th>0</th>\n",
       "      <td>True</td>\n",
       "      <td>white</td>\n",
       "      <td>reject</td>\n",
       "      <td>1</td>\n",
       "      <td>128</td>\n",
       "      <td>74</td>\n",
       "      <td>1.0</td>\n",
       "      <td>1.0</td>\n",
       "      <td>False</td>\n",
       "      <td>4583</td>\n",
       "      <td>160.0</td>\n",
       "      <td>52.0</td>\n",
       "      <td>2</td>\n",
       "      <td>2</td>\n",
       "      <td>False</td>\n",
       "      <td>2</td>\n",
       "      <td>male</td>\n",
       "    </tr>\n",
       "    <tr>\n",
       "      <th>1</th>\n",
       "      <td>False</td>\n",
       "      <td>white</td>\n",
       "      <td>approve</td>\n",
       "      <td>1</td>\n",
       "      <td>128</td>\n",
       "      <td>84</td>\n",
       "      <td>1.0</td>\n",
       "      <td>0.0</td>\n",
       "      <td>False</td>\n",
       "      <td>2666</td>\n",
       "      <td>143.0</td>\n",
       "      <td>37.0</td>\n",
       "      <td>2</td>\n",
       "      <td>2</td>\n",
       "      <td>False</td>\n",
       "      <td>2</td>\n",
       "      <td>male</td>\n",
       "    </tr>\n",
       "    <tr>\n",
       "      <th>2</th>\n",
       "      <td>True</td>\n",
       "      <td>white</td>\n",
       "      <td>approve</td>\n",
       "      <td>1</td>\n",
       "      <td>66</td>\n",
       "      <td>36</td>\n",
       "      <td>1.0</td>\n",
       "      <td>0.0</td>\n",
       "      <td>True</td>\n",
       "      <td>3000</td>\n",
       "      <td>110.0</td>\n",
       "      <td>19.0</td>\n",
       "      <td>2</td>\n",
       "      <td>6</td>\n",
       "      <td>True</td>\n",
       "      <td>2</td>\n",
       "      <td>male</td>\n",
       "    </tr>\n",
       "    <tr>\n",
       "      <th>3</th>\n",
       "      <td>True</td>\n",
       "      <td>white</td>\n",
       "      <td>approve</td>\n",
       "      <td>1</td>\n",
       "      <td>120</td>\n",
       "      <td>59</td>\n",
       "      <td>1.0</td>\n",
       "      <td>0.0</td>\n",
       "      <td>False</td>\n",
       "      <td>2583</td>\n",
       "      <td>134.0</td>\n",
       "      <td>31.0</td>\n",
       "      <td>2</td>\n",
       "      <td>1</td>\n",
       "      <td>False</td>\n",
       "      <td>1</td>\n",
       "      <td>male</td>\n",
       "    </tr>\n",
       "    <tr>\n",
       "      <th>4</th>\n",
       "      <td>False</td>\n",
       "      <td>white</td>\n",
       "      <td>approve</td>\n",
       "      <td>1</td>\n",
       "      <td>111</td>\n",
       "      <td>63</td>\n",
       "      <td>1.0</td>\n",
       "      <td>0.0</td>\n",
       "      <td>False</td>\n",
       "      <td>2208</td>\n",
       "      <td>138.0</td>\n",
       "      <td>169.0</td>\n",
       "      <td>2</td>\n",
       "      <td>6</td>\n",
       "      <td>False</td>\n",
       "      <td>2</td>\n",
       "      <td>male</td>\n",
       "    </tr>\n",
       "  </tbody>\n",
       "</table>\n",
       "</div>"
      ],
      "text/plain": [
       "  married   race loan_decision  occupancy  loan_amount  applicant_income  \\\n",
       "0    True  white        reject          1          128                74   \n",
       "1   False  white       approve          1          128                84   \n",
       "2    True  white       approve          1           66                36   \n",
       "3    True  white       approve          1          120                59   \n",
       "4   False  white       approve          1          111                63   \n",
       "\n",
       "   num_units  num_dependants  self_employed  monthly_income  purchase_price  \\\n",
       "0        1.0             1.0          False            4583           160.0   \n",
       "1        1.0             0.0          False            2666           143.0   \n",
       "2        1.0             0.0           True            3000           110.0   \n",
       "3        1.0             0.0          False            2583           134.0   \n",
       "4        1.0             0.0          False            2208           138.0   \n",
       "\n",
       "   liquid_assets  mortage_payment_history  consumer_credit_history  \\\n",
       "0           52.0                        2                        2   \n",
       "1           37.0                        2                        2   \n",
       "2           19.0                        2                        6   \n",
       "3           31.0                        2                        1   \n",
       "4          169.0                        2                        6   \n",
       "\n",
       "   filed_bankruptcy  property_type gender  \n",
       "0             False              2   male  \n",
       "1             False              2   male  \n",
       "2              True              2   male  \n",
       "3             False              1   male  \n",
       "4             False              2   male  "
      ]
     },
     "execution_count": 3,
     "metadata": {},
     "output_type": "execute_result"
    }
   ],
   "source": [
    "df.head()"
   ]
  },
  {
   "cell_type": "code",
   "execution_count": 7,
   "id": "e490efee",
   "metadata": {},
   "outputs": [],
   "source": [
    "# Shape of the data\n",
    "shape = df.shape"
   ]
  },
  {
   "cell_type": "code",
   "execution_count": 8,
   "id": "71474411",
   "metadata": {},
   "outputs": [
    {
     "name": "stdout",
     "output_type": "stream",
     "text": [
      "shape of data (1988, 17)\n"
     ]
    }
   ],
   "source": [
    "print(\"shape of data\",shape)"
   ]
  },
  {
   "cell_type": "code",
   "execution_count": 9,
   "id": "99b0b8f6",
   "metadata": {},
   "outputs": [
    {
     "name": "stdout",
     "output_type": "stream",
     "text": [
      "married                     3\n",
      "race                        0\n",
      "loan_decision               0\n",
      "occupancy                   0\n",
      "loan_amount                 0\n",
      "applicant_income            0\n",
      "num_units                   4\n",
      "num_dependants              3\n",
      "self_employed               0\n",
      "monthly_income              0\n",
      "purchase_price              0\n",
      "liquid_assets               0\n",
      "mortage_payment_history     0\n",
      "consumer_credit_history     0\n",
      "filed_bankruptcy            0\n",
      "property_type               0\n",
      "gender                     14\n",
      "dtype: int64\n"
     ]
    }
   ],
   "source": [
    "# find for missing values\n",
    "missing_values = df.isnull().sum()\n",
    "\n",
    "print(missing_values)"
   ]
  },
  {
   "cell_type": "code",
   "execution_count": 10,
   "id": "bc40a116",
   "metadata": {},
   "outputs": [
    {
     "name": "stdout",
     "output_type": "stream",
     "text": [
      "0       False\n",
      "1       False\n",
      "2       False\n",
      "3       False\n",
      "4       False\n",
      "        ...  \n",
      "1983    False\n",
      "1984    False\n",
      "1985    False\n",
      "1986    False\n",
      "1987    False\n",
      "Length: 1988, dtype: bool\n"
     ]
    }
   ],
   "source": [
    "deplicate_values=df.duplicated()\n",
    "print(deplicate_values)"
   ]
  },
  {
   "cell_type": "code",
   "execution_count": 11,
   "id": "d9e5737c",
   "metadata": {},
   "outputs": [
    {
     "data": {
      "text/html": [
       "<div>\n",
       "<style scoped>\n",
       "    .dataframe tbody tr th:only-of-type {\n",
       "        vertical-align: middle;\n",
       "    }\n",
       "\n",
       "    .dataframe tbody tr th {\n",
       "        vertical-align: top;\n",
       "    }\n",
       "\n",
       "    .dataframe thead th {\n",
       "        text-align: right;\n",
       "    }\n",
       "</style>\n",
       "<table border=\"1\" class=\"dataframe\">\n",
       "  <thead>\n",
       "    <tr style=\"text-align: right;\">\n",
       "      <th></th>\n",
       "      <th>occupancy</th>\n",
       "      <th>loan_amount</th>\n",
       "      <th>applicant_income</th>\n",
       "      <th>num_units</th>\n",
       "      <th>num_dependants</th>\n",
       "      <th>monthly_income</th>\n",
       "      <th>purchase_price</th>\n",
       "      <th>liquid_assets</th>\n",
       "      <th>mortage_payment_history</th>\n",
       "      <th>consumer_credit_history</th>\n",
       "      <th>property_type</th>\n",
       "    </tr>\n",
       "  </thead>\n",
       "  <tbody>\n",
       "    <tr>\n",
       "      <th>count</th>\n",
       "      <td>1988.000000</td>\n",
       "      <td>1988.000000</td>\n",
       "      <td>1988.000000</td>\n",
       "      <td>1984.000000</td>\n",
       "      <td>1985.000000</td>\n",
       "      <td>1988.000000</td>\n",
       "      <td>1988.000000</td>\n",
       "      <td>1988.000000</td>\n",
       "      <td>1988.000000</td>\n",
       "      <td>1988.000000</td>\n",
       "      <td>1988.000000</td>\n",
       "    </tr>\n",
       "    <tr>\n",
       "      <th>mean</th>\n",
       "      <td>1.031690</td>\n",
       "      <td>143.272636</td>\n",
       "      <td>84.684105</td>\n",
       "      <td>1.122480</td>\n",
       "      <td>0.771285</td>\n",
       "      <td>5195.220825</td>\n",
       "      <td>196.304088</td>\n",
       "      <td>4620.333873</td>\n",
       "      <td>1.708249</td>\n",
       "      <td>2.110161</td>\n",
       "      <td>1.861167</td>\n",
       "    </tr>\n",
       "    <tr>\n",
       "      <th>std</th>\n",
       "      <td>0.191678</td>\n",
       "      <td>80.531470</td>\n",
       "      <td>87.079777</td>\n",
       "      <td>0.437315</td>\n",
       "      <td>1.104464</td>\n",
       "      <td>5270.360946</td>\n",
       "      <td>128.136030</td>\n",
       "      <td>67142.936043</td>\n",
       "      <td>0.555335</td>\n",
       "      <td>1.663256</td>\n",
       "      <td>0.535448</td>\n",
       "    </tr>\n",
       "    <tr>\n",
       "      <th>min</th>\n",
       "      <td>1.000000</td>\n",
       "      <td>2.000000</td>\n",
       "      <td>0.000000</td>\n",
       "      <td>1.000000</td>\n",
       "      <td>0.000000</td>\n",
       "      <td>0.000000</td>\n",
       "      <td>25.000000</td>\n",
       "      <td>0.000000</td>\n",
       "      <td>1.000000</td>\n",
       "      <td>1.000000</td>\n",
       "      <td>1.000000</td>\n",
       "    </tr>\n",
       "    <tr>\n",
       "      <th>25%</th>\n",
       "      <td>1.000000</td>\n",
       "      <td>100.000000</td>\n",
       "      <td>48.000000</td>\n",
       "      <td>1.000000</td>\n",
       "      <td>0.000000</td>\n",
       "      <td>2875.750000</td>\n",
       "      <td>129.000000</td>\n",
       "      <td>20.000000</td>\n",
       "      <td>1.000000</td>\n",
       "      <td>1.000000</td>\n",
       "      <td>2.000000</td>\n",
       "    </tr>\n",
       "    <tr>\n",
       "      <th>50%</th>\n",
       "      <td>1.000000</td>\n",
       "      <td>126.000000</td>\n",
       "      <td>64.000000</td>\n",
       "      <td>1.000000</td>\n",
       "      <td>0.000000</td>\n",
       "      <td>3812.500000</td>\n",
       "      <td>163.000000</td>\n",
       "      <td>38.000000</td>\n",
       "      <td>2.000000</td>\n",
       "      <td>1.000000</td>\n",
       "      <td>2.000000</td>\n",
       "    </tr>\n",
       "    <tr>\n",
       "      <th>75%</th>\n",
       "      <td>1.000000</td>\n",
       "      <td>165.000000</td>\n",
       "      <td>88.000000</td>\n",
       "      <td>1.000000</td>\n",
       "      <td>1.000000</td>\n",
       "      <td>5594.500000</td>\n",
       "      <td>225.000000</td>\n",
       "      <td>83.000000</td>\n",
       "      <td>2.000000</td>\n",
       "      <td>2.000000</td>\n",
       "      <td>2.000000</td>\n",
       "    </tr>\n",
       "    <tr>\n",
       "      <th>max</th>\n",
       "      <td>3.000000</td>\n",
       "      <td>980.000000</td>\n",
       "      <td>972.000000</td>\n",
       "      <td>4.000000</td>\n",
       "      <td>8.000000</td>\n",
       "      <td>81000.000000</td>\n",
       "      <td>1535.000000</td>\n",
       "      <td>1000000.000000</td>\n",
       "      <td>4.000000</td>\n",
       "      <td>6.000000</td>\n",
       "      <td>3.000000</td>\n",
       "    </tr>\n",
       "  </tbody>\n",
       "</table>\n",
       "</div>"
      ],
      "text/plain": [
       "         occupancy  loan_amount  applicant_income    num_units  \\\n",
       "count  1988.000000  1988.000000       1988.000000  1984.000000   \n",
       "mean      1.031690   143.272636         84.684105     1.122480   \n",
       "std       0.191678    80.531470         87.079777     0.437315   \n",
       "min       1.000000     2.000000          0.000000     1.000000   \n",
       "25%       1.000000   100.000000         48.000000     1.000000   \n",
       "50%       1.000000   126.000000         64.000000     1.000000   \n",
       "75%       1.000000   165.000000         88.000000     1.000000   \n",
       "max       3.000000   980.000000        972.000000     4.000000   \n",
       "\n",
       "       num_dependants  monthly_income  purchase_price   liquid_assets  \\\n",
       "count     1985.000000     1988.000000     1988.000000     1988.000000   \n",
       "mean         0.771285     5195.220825      196.304088     4620.333873   \n",
       "std          1.104464     5270.360946      128.136030    67142.936043   \n",
       "min          0.000000        0.000000       25.000000        0.000000   \n",
       "25%          0.000000     2875.750000      129.000000       20.000000   \n",
       "50%          0.000000     3812.500000      163.000000       38.000000   \n",
       "75%          1.000000     5594.500000      225.000000       83.000000   \n",
       "max          8.000000    81000.000000     1535.000000  1000000.000000   \n",
       "\n",
       "       mortage_payment_history  consumer_credit_history  property_type  \n",
       "count              1988.000000              1988.000000    1988.000000  \n",
       "mean                  1.708249                 2.110161       1.861167  \n",
       "std                   0.555335                 1.663256       0.535448  \n",
       "min                   1.000000                 1.000000       1.000000  \n",
       "25%                   1.000000                 1.000000       2.000000  \n",
       "50%                   2.000000                 1.000000       2.000000  \n",
       "75%                   2.000000                 2.000000       2.000000  \n",
       "max                   4.000000                 6.000000       3.000000  "
      ]
     },
     "execution_count": 11,
     "metadata": {},
     "output_type": "execute_result"
    }
   ],
   "source": [
    "df.describe()"
   ]
  },
  {
   "cell_type": "code",
   "execution_count": 12,
   "id": "3eb4a5ac",
   "metadata": {},
   "outputs": [
    {
     "name": "stdout",
     "output_type": "stream",
     "text": [
      "<class 'pandas.core.frame.DataFrame'>\n",
      "RangeIndex: 1988 entries, 0 to 1987\n",
      "Data columns (total 17 columns):\n",
      " #   Column                   Non-Null Count  Dtype  \n",
      "---  ------                   --------------  -----  \n",
      " 0   married                  1985 non-null   object \n",
      " 1   race                     1988 non-null   object \n",
      " 2   loan_decision            1988 non-null   object \n",
      " 3   occupancy                1988 non-null   int64  \n",
      " 4   loan_amount              1988 non-null   int64  \n",
      " 5   applicant_income         1988 non-null   int64  \n",
      " 6   num_units                1984 non-null   float64\n",
      " 7   num_dependants           1985 non-null   float64\n",
      " 8   self_employed            1988 non-null   bool   \n",
      " 9   monthly_income           1988 non-null   int64  \n",
      " 10  purchase_price           1988 non-null   float64\n",
      " 11  liquid_assets            1988 non-null   float64\n",
      " 12  mortage_payment_history  1988 non-null   int64  \n",
      " 13  consumer_credit_history  1988 non-null   int64  \n",
      " 14  filed_bankruptcy         1988 non-null   bool   \n",
      " 15  property_type            1988 non-null   int64  \n",
      " 16  gender                   1974 non-null   object \n",
      "dtypes: bool(2), float64(4), int64(7), object(4)\n",
      "memory usage: 237.0+ KB\n"
     ]
    }
   ],
   "source": [
    "df.info()"
   ]
  },
  {
   "cell_type": "code",
   "execution_count": 13,
   "id": "304d1c91",
   "metadata": {},
   "outputs": [
    {
     "name": "stdout",
     "output_type": "stream",
     "text": [
      "married                       0.658942\n",
      "occupancy                     1.031690\n",
      "loan_amount                 143.272636\n",
      "applicant_income             84.684105\n",
      "num_units                     1.122480\n",
      "num_dependants                0.771285\n",
      "self_employed                 0.129276\n",
      "monthly_income             5195.220825\n",
      "purchase_price              196.304088\n",
      "liquid_assets              4620.333873\n",
      "mortage_payment_history       1.708249\n",
      "consumer_credit_history       2.110161\n",
      "filed_bankruptcy              0.068913\n",
      "property_type                 1.861167\n",
      "dtype: float64\n"
     ]
    },
    {
     "name": "stderr",
     "output_type": "stream",
     "text": [
      "C:\\Program Files\\KMSpico\\temp\\ipykernel_7296\\2288066595.py:2: FutureWarning: The default value of numeric_only in DataFrame.mean is deprecated. In a future version, it will default to False. In addition, specifying 'numeric_only=None' is deprecated. Select only valid columns or specify the value of numeric_only to silence this warning.\n",
      "  mean_values = df.mean()\n"
     ]
    }
   ],
   "source": [
    "# Calculate the mean of numeric columns\n",
    "mean_values = df.mean()\n",
    "print(mean_values)"
   ]
  },
  {
   "cell_type": "markdown",
   "id": "844c1d59",
   "metadata": {},
   "source": [
    " guud ahaan inta deenta laga diiday ama laga yeely"
   ]
  },
  {
   "cell_type": "code",
   "execution_count": 6,
   "id": "0fa2489b",
   "metadata": {},
   "outputs": [
    {
     "data": {
      "text/plain": [
       "1526"
      ]
     },
     "execution_count": 6,
     "metadata": {},
     "output_type": "execute_result"
    }
   ],
   "source": [
    "approvedLoanFromWhite = df[(df['race'] == 'white') & (df['loan_decision'] == \"approve\")]\n",
    "len(approvedLoanFromWhite)"
   ]
  },
  {
   "cell_type": "code",
   "execution_count": 17,
   "id": "07f55b26",
   "metadata": {},
   "outputs": [
    {
     "name": "stdout",
     "output_type": "stream",
     "text": [
      "Number of dependents of white people: 1244.0\n"
     ]
    }
   ],
   "source": [
    "result = pd.DataFrame(df)\n",
    "white_people = df[df['race'] == 'white']\n",
    "\n",
    "# Calculate the sum of dependents for white people\n",
    "num_dependents = white_people['num_dependants'].sum()\n",
    "print(\"Number of dependents of white people:\", num_dependents)"
   ]
  },
  {
   "cell_type": "code",
   "execution_count": 20,
   "id": "114de3ce",
   "metadata": {},
   "outputs": [
    {
     "name": "stdout",
     "output_type": "stream",
     "text": [
      "Total number of dependents of black people: 172.0\n"
     ]
    }
   ],
   "source": [
    "results = pd.DataFrame(df)\n",
    "black_people = df[df['race'] == 'black']\n",
    "total_dependents = black_people['num_dependants'].sum()\n",
    "\n",
    "# Print the total number of dependents of black people\n",
    "print(\"Total number of dependents of black people:\", total_dependents)"
   ]
  },
  {
   "cell_type": "code",
   "execution_count": 21,
   "id": "7ddee5fb",
   "metadata": {},
   "outputs": [
    {
     "name": "stdout",
     "output_type": "stream",
     "text": [
      "Total number of dependents of black women: 25.0\n"
     ]
    }
   ],
   "source": [
    "df3 = pd.DataFrame(df)\n",
    "black_women = df[(df['race'] == 'black') & (df['gender'] == 'female')]\n",
    "total_dependents = black_women['num_dependants'].sum()\n",
    "\n",
    "# Print the total number of dependents of black women\n",
    "print(\"Total number of dependents of black women:\", total_dependents)"
   ]
  },
  {
   "cell_type": "code",
   "execution_count": 22,
   "id": "1ac0d458",
   "metadata": {},
   "outputs": [
    {
     "name": "stdout",
     "output_type": "stream",
     "text": [
      "Total number of dependents of white women: 95.0\n"
     ]
    }
   ],
   "source": [
    "df4 = pd.DataFrame(df)\n",
    "white_women = df[(df['race'] == 'white') & (df['gender'] == 'female')]\n",
    "total_dependents = white_women['num_dependants'].sum()\n",
    "\n",
    "# Print the total number of dependents of white women\n",
    "print(\"Total number of dependents of white women:\", total_dependents)"
   ]
  },
  {
   "cell_type": "code",
   "execution_count": 23,
   "id": "82d81972",
   "metadata": {},
   "outputs": [
    {
     "name": "stdout",
     "output_type": "stream",
     "text": [
      "Total number of dependents of black men: 146.0\n"
     ]
    }
   ],
   "source": [
    "df5 = pd.DataFrame(df)\n",
    "black_men = df[(df['race'] == 'black') & (df['gender'] == 'male')]\n",
    "total_dependents = black_men['num_dependants'].sum()\n",
    "\n",
    "# Print the total number of dependents of black men\n",
    "print(\"Total number of dependents of black men:\", total_dependents)"
   ]
  },
  {
   "cell_type": "code",
   "execution_count": 33,
   "id": "6e7a1efc",
   "metadata": {},
   "outputs": [
    {
     "name": "stdout",
     "output_type": "stream",
     "text": [
      "Number of married people: 1308\n"
     ]
    }
   ],
   "source": [
    "df6 = pd.DataFrame(df)\n",
    "married_people = df[df['married'] == True]\n",
    "num_married_people = len(married_people)\n",
    "\n",
    "# Print the count of married people\n",
    "print(\"Number of married people:\", num_married_people)"
   ]
  },
  {
   "cell_type": "markdown",
   "id": "a3b853f1",
   "metadata": {},
   "source": [
    " dadka deenta laga diiday"
   ]
  },
  {
   "cell_type": "code",
   "execution_count": 5,
   "id": "4912d2b9",
   "metadata": {},
   "outputs": [
    {
     "data": {
      "text/plain": [
       "244"
      ]
     },
     "execution_count": 5,
     "metadata": {},
     "output_type": "execute_result"
    }
   ],
   "source": [
    "rejectedLoanOnes = df[df['loan_decision'] == \"reject\"]\n",
    "len(rejectedLoanOnes)"
   ]
  },
  {
   "cell_type": "markdown",
   "id": "a1a9cde8",
   "metadata": {},
   "source": [
    "dadka guursaday ee deenta laga diiday"
   ]
  },
  {
   "cell_type": "code",
   "execution_count": 7,
   "id": "0935aadf",
   "metadata": {},
   "outputs": [
    {
     "data": {
      "text/plain": [
       "142"
      ]
     },
     "execution_count": 7,
     "metadata": {},
     "output_type": "execute_result"
    }
   ],
   "source": [
    "rejectedLoanFromMarried = df[(df['married'] == True) & (df['loan_decision'] == \"reject\")]\n",
    "len(rejectedLoanFromMarried)"
   ]
  },
  {
   "cell_type": "code",
   "execution_count": 9,
   "id": "c11ff03e",
   "metadata": {},
   "outputs": [
    {
     "name": "stdout",
     "output_type": "stream",
     "text": [
      "<bound method NDFrame._add_numeric_operations.<locals>.mean of 0       4583\n",
      "1       2666\n",
      "2       3000\n",
      "3       2583\n",
      "4       2208\n",
      "        ... \n",
      "1983    5000\n",
      "1984    9583\n",
      "1985    4159\n",
      "1986    9200\n",
      "1987    4583\n",
      "Name: monthly_income, Length: 1988, dtype: int64>\n"
     ]
    }
   ],
   "source": [
    "mean_monthly_income =df['monthly_income'].mean\n",
    "print(mean_monthly_income)"
   ]
  },
  {
   "cell_type": "code",
   "execution_count": null,
   "id": "94b119da",
   "metadata": {},
   "outputs": [],
   "source": []
  }
 ],
 "metadata": {
  "kernelspec": {
   "display_name": "Python 3 (ipykernel)",
   "language": "python",
   "name": "python3"
  },
  "language_info": {
   "codemirror_mode": {
    "name": "ipython",
    "version": 3
   },
   "file_extension": ".py",
   "mimetype": "text/x-python",
   "name": "python",
   "nbconvert_exporter": "python",
   "pygments_lexer": "ipython3",
   "version": "3.11.4"
  }
 },
 "nbformat": 4,
 "nbformat_minor": 5
}
