{
 "cells": [
  {
   "cell_type": "markdown",
   "id": "c8e01b92",
   "metadata": {},
   "source": [
    "### Creation of NumPy Arrays from List"
   ]
  },
  {
   "cell_type": "markdown",
   "id": "d61aeca1",
   "metadata": {},
   "source": [
    "There are several ways to create arrays. To create an  array and to use its methods, first we need to import the  NumPy library."
   ]
  },
  {
   "cell_type": "code",
   "execution_count": 85,
   "id": "8f25070c",
   "metadata": {},
   "outputs": [],
   "source": [
    "#NumPy is loaded as np (we can assign any  #name), numpy must be written in lowercase\n",
    "import numpy as np"
   ]
  },
  {
   "cell_type": "markdown",
   "id": "127535a0",
   "metadata": {},
   "source": [
    "NumPy is loaded as np (we can assign any  #name), numpy must be written in lowercase\n",
    "import numpy as np"
   ]
  },
  {
   "cell_type": "code",
   "execution_count": 86,
   "id": "b373b21b",
   "metadata": {},
   "outputs": [
    {
     "data": {
      "text/plain": [
       "array([10, 20, 30])"
      ]
     },
     "execution_count": 86,
     "metadata": {},
     "output_type": "execute_result"
    }
   ],
   "source": [
    "#The NumPy’s array() function converts a given list  into an array. For example,\n",
    "#Create an array called array1 from the  #given list.\n",
    "arr = np.array([10,20,30])\n",
    "arr"
   ]
  },
  {
   "cell_type": "code",
   "execution_count": 87,
   "id": "8a29278f",
   "metadata": {},
   "outputs": [
    {
     "data": {
      "text/plain": [
       "array([2, 3, 4, 5])"
      ]
     },
     "execution_count": 87,
     "metadata": {},
     "output_type": "execute_result"
    }
   ],
   "source": [
    "arr = np.arange(2,6)\n",
    "arr"
   ]
  },
  {
   "cell_type": "code",
   "execution_count": 88,
   "id": "65739069",
   "metadata": {},
   "outputs": [
    {
     "data": {
      "text/plain": [
       "4"
      ]
     },
     "execution_count": 88,
     "metadata": {},
     "output_type": "execute_result"
    }
   ],
   "source": [
    "#ndarray.shape: It gives the sequence of integers  \n",
    "#indicating the size of the array for each dimension\n",
    "arr.size\n",
    "#print(arr.shape) => hape relates to the size of the dimensions of an N-dimensional array."
   ]
  },
  {
   "cell_type": "markdown",
   "id": "227b0587",
   "metadata": {},
   "source": [
    "We can create an array with all elements initialised  to 0 using the function zeros(). By default, the  data type of the array created by zeros() is float.  The following code will create an array with 3 rows  and 4 columns with each element set to 0."
   ]
  },
  {
   "cell_type": "markdown",
   "id": "97e7e5b3",
   "metadata": {},
   "source": [
    "We can also create an array with all elements initialised  to 1 using the function ones(). By default, the  data type of the array created by ones() is float.  The following code will create an array with 3 rows  and 2 columns.\n",
    "\n"
   ]
  },
  {
   "cell_type": "code",
   "execution_count": 89,
   "id": "300e3c64",
   "metadata": {},
   "outputs": [
    {
     "data": {
      "text/plain": [
       "array([[1., 1.],\n",
       "       [1., 1.],\n",
       "       [1., 1.]])"
      ]
     },
     "execution_count": 89,
     "metadata": {},
     "output_type": "execute_result"
    }
   ],
   "source": [
    "arr_list = np.ones((3,2))\n",
    "arr_list"
   ]
  },
  {
   "cell_type": "code",
   "execution_count": 90,
   "id": "7af7db14",
   "metadata": {},
   "outputs": [
    {
     "data": {
      "text/plain": [
       "'Mar'"
      ]
     },
     "execution_count": 90,
     "metadata": {},
     "output_type": "execute_result"
    }
   ],
   "source": [
    "months = np.array([\"Jan\",\"Feb\",\"Mar\"])\n",
    "#months\n",
    "months[2]"
   ]
  },
  {
   "cell_type": "markdown",
   "id": "a8d18ff0",
   "metadata": {},
   "source": [
    "### INDEXING AND SLICING\n"
   ]
  },
  {
   "cell_type": "code",
   "execution_count": 91,
   "id": "667113e2",
   "metadata": {},
   "outputs": [
    {
     "name": "stdout",
     "output_type": "stream",
     "text": [
      "Array arr11: [0 1 2 3]\n",
      "Element at index 0 of arr1 is: 0\n",
      "Element at index 1 of arr1 is: 1\n"
     ]
    }
   ],
   "source": [
    "arr1 = np.arange(4)\n",
    "print(\"Array arr11:\",arr1)\n",
    "print(\"Element at index 0 of arr1 is:\",arr1[0])\n",
    "print(\"Element at index 1 of arr1 is:\",arr1[1])\n"
   ]
  },
  {
   "cell_type": "code",
   "execution_count": 92,
   "id": "95036bed",
   "metadata": {},
   "outputs": [
    {
     "data": {
      "text/plain": [
       "array([2, 3, 4, 5, 6, 7])"
      ]
     },
     "execution_count": 92,
     "metadata": {},
     "output_type": "execute_result"
    }
   ],
   "source": [
    "# slice items starting from index \n",
    "\n",
    "a = np.arange(10) \n",
    "     # a[6:]\n",
    "a[2:8]\n",
    "    # print (a[2:])"
   ]
  },
  {
   "cell_type": "markdown",
   "id": "684e47f5",
   "metadata": {},
   "source": [
    "OPERATIONS ON ARRAYS\n"
   ]
  },
  {
   "cell_type": "code",
   "execution_count": 93,
   "id": "b1a97192",
   "metadata": {},
   "outputs": [
    {
     "data": {
      "text/plain": [
       "array([[13, 26],\n",
       "       [19, 14]])"
      ]
     },
     "execution_count": 93,
     "metadata": {},
     "output_type": "execute_result"
    }
   ],
   "source": [
    "array1 = np.array([[3,6],[4,2]])\n",
    "\n",
    "array2 = np.array([[10,20],[15,12]])\n",
    "#Element-wise addition of two matrices.\n",
    "array1 + array2  # you can make substraction, Multiplication, Division and so on\n"
   ]
  },
  {
   "cell_type": "markdown",
   "id": "63b38697",
   "metadata": {},
   "source": [
    "RESHAPING ARRAYS"
   ]
  },
  {
   "cell_type": "code",
   "execution_count": 94,
   "id": "1ac95e11",
   "metadata": {},
   "outputs": [
    {
     "data": {
      "text/plain": [
       "array([10, 11, 12, 13, 14, 15, 16, 17, 18, 19, 20, 21])"
      ]
     },
     "execution_count": 94,
     "metadata": {},
     "output_type": "execute_result"
    }
   ],
   "source": [
    "array3 = np.arange(10,22)\n",
    "array3\n"
   ]
  },
  {
   "cell_type": "code",
   "execution_count": 95,
   "id": "9b27497e",
   "metadata": {},
   "outputs": [
    {
     "data": {
      "text/plain": [
       "array([[10, 11, 12, 13],\n",
       "       [14, 15, 16, 17],\n",
       "       [18, 19, 20, 21]])"
      ]
     },
     "execution_count": 95,
     "metadata": {},
     "output_type": "execute_result"
    }
   ],
   "source": [
    "array3.reshape(3,4)"
   ]
  },
  {
   "cell_type": "markdown",
   "id": "8ce864a6",
   "metadata": {},
   "source": [
    "### Describe statistics of the our example data using NumPy\n"
   ]
  },
  {
   "cell_type": "code",
   "execution_count": 96,
   "id": "893c9676",
   "metadata": {},
   "outputs": [],
   "source": [
    "# Import Pacakages\n",
    "import statistics as stat\n",
    "import numpy as np"
   ]
  },
  {
   "cell_type": "code",
   "execution_count": 97,
   "id": "fd2b5c97",
   "metadata": {},
   "outputs": [
    {
     "data": {
      "text/plain": [
       "(9,)"
      ]
     },
     "execution_count": 97,
     "metadata": {},
     "output_type": "execute_result"
    }
   ],
   "source": [
    "# Creating a salary list \n",
    "\n",
    "salary = [10,20,22,12,25,10,24,26,21]\n",
    "\n",
    "# build numpy array to the list\n",
    "salaries = np.array(salary)\n",
    "salaries.shape"
   ]
  },
  {
   "cell_type": "code",
   "execution_count": 98,
   "id": "1f992b86",
   "metadata": {},
   "outputs": [
    {
     "name": "stdout",
     "output_type": "stream",
     "text": [
      "The Mean of the salary: 18.88888888888889 Median 21.0, Mode: 10\n"
     ]
    }
   ],
   "source": [
    "# Calculate Statistically measurements(Central tendancy)\n",
    "mean = np.mean(salaries)\n",
    "median = np.median(salaries)\n",
    "mode = stat.mode(salaries)\n",
    "print(f'The Mean of the salary: {mean} Median {median}, Mode: {mode}')"
   ]
  },
  {
   "cell_type": "code",
   "execution_count": 99,
   "id": "1a75c748",
   "metadata": {},
   "outputs": [
    {
     "name": "stdout",
     "output_type": "stream",
     "text": [
      "the range of the data: 16 Variance: 41.861111111111114 Std: 6.470016314593891\n"
     ]
    }
   ],
   "source": [
    "# Variability / Spread Measurements \n",
    "\n",
    "the_range = np.ptp(salaries)\n",
    "variance  = np.var(salaries,ddof=1)\n",
    "std = np.std(salaries, ddof=1)\n",
    "print(f'the range of the data: {the_range} Variance: {variance} Std: {std}')"
   ]
  },
  {
   "cell_type": "markdown",
   "id": "7f4093c1",
   "metadata": {},
   "source": [
    "The  ddf or delta degrees of freedom allows us to generiate sample variance"
   ]
  },
  {
   "cell_type": "markdown",
   "id": "63afdfa8",
   "metadata": {},
   "source": [
    "QUARTILES"
   ]
  },
  {
   "cell_type": "code",
   "execution_count": 100,
   "id": "78ddb9d1",
   "metadata": {},
   "outputs": [
    {
     "name": "stdout",
     "output_type": "stream",
     "text": [
      "Quartile_1: 12.0 Quartile_2: 21.0 Quartile_3: 24.0\n"
     ]
    }
   ],
   "source": [
    "q1 = np.percentile(salaries, 25)\n",
    "q2 = np.percentile(salaries, 50)\n",
    "q3 = np.percentile(salaries,75)\n",
    "print(f'Quartile_1: {q1} Quartile_2: {q2} Quartile_3: {q3}')"
   ]
  },
  {
   "cell_type": "code",
   "execution_count": null,
   "id": "1faa9974",
   "metadata": {},
   "outputs": [],
   "source": []
  }
 ],
 "metadata": {
  "kernelspec": {
   "display_name": "Python 3 (ipykernel)",
   "language": "python",
   "name": "python3"
  },
  "language_info": {
   "codemirror_mode": {
    "name": "ipython",
    "version": 3
   },
   "file_extension": ".py",
   "mimetype": "text/x-python",
   "name": "python",
   "nbconvert_exporter": "python",
   "pygments_lexer": "ipython3",
   "version": "3.11.4"
  }
 },
 "nbformat": 4,
 "nbformat_minor": 5
}
