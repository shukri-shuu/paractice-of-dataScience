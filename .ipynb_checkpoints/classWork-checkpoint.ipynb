{
 "cells": [
  {
   "cell_type": "code",
   "execution_count": 11,
   "id": "cc7ff7ba",
   "metadata": {},
   "outputs": [],
   "source": [
    "import statistics as stat\n",
    "import pandas as pd\n",
    "import numpy as np"
   ]
  },
  {
   "cell_type": "code",
   "execution_count": 12,
   "id": "6e0b91c0",
   "metadata": {},
   "outputs": [],
   "source": [
    "data = [52, 45, 58, 46, 23, 74, 47, 85, 69, 30, 28, 19, 39, 64, 66, 99, 88, 22, 43, 75, 3"
   ]
  },
  {
   "cell_type": "code",
   "execution_count": 13,
   "id": "90152da8",
   "metadata": {},
   "outputs": [],
   "source": [
    "\n",
    "# Convert the list to a Pandas DataFrame\n",
    "df = pd.DataFrame(data, columns=['Salary'])"
   ]
  },
  {
   "cell_type": "code",
   "execution_count": 14,
   "id": "150f51b9",
   "metadata": {},
   "outputs": [],
   "source": [
    "# Shape of the data\n",
    "shape = df.shape\n",
    "num_rows = shape[0]\n",
    "num_columns = shape[1]"
   ]
  },
  {
   "cell_type": "code",
   "execution_count": 15,
   "id": "b14dec6b",
   "metadata": {},
   "outputs": [],
   "source": [
    "# Type of data\n",
    "data_type = type(df)"
   ]
  },
  {
   "cell_type": "code",
   "execution_count": 16,
   "id": "12bca5ea",
   "metadata": {},
   "outputs": [],
   "source": [
    "# Data types of columns\n",
    "column_data_types = df.dtypes"
   ]
  },
  {
   "cell_type": "code",
   "execution_count": 17,
   "id": "22bd1f8d",
   "metadata": {},
   "outputs": [],
   "source": [
    "\n",
    "# Column names\n",
    "column_names = df.columns"
   ]
  },
  {
   "cell_type": "code",
   "execution_count": 18,
   "id": "e3c21cb8",
   "metadata": {},
   "outputs": [],
   "source": [
    "# Measure of Central Tendency\n",
    "mean = df['Salary'].mean()\n",
    "median = df['Salary'].median()\n",
    "mode = df['Salary'].mode().values"
   ]
  },
  {
   "cell_type": "code",
   "execution_count": 19,
   "id": "ca1d3776",
   "metadata": {},
   "outputs": [],
   "source": [
    "# Measure of Variance\n",
    "std_deviation = df['Salary'].std()\n"
   ]
  },
  {
   "cell_type": "code",
   "execution_count": 20,
   "id": "2d8b66ff",
   "metadata": {},
   "outputs": [
    {
     "name": "stdout",
     "output_type": "stream",
     "text": [
      "Shape of data: (21, 1)\n",
      "Number of rows: 21\n",
      "Number of columns: 1\n",
      "Type of data: <class 'pandas.core.frame.DataFrame'>\n",
      "Data types of columns:\n",
      " Salary    int64\n",
      "dtype: object\n",
      "Column names: Index(['Salary'], dtype='object')\n",
      "Mean: 52.76190476190476\n",
      "Median: 47.0\n",
      "Mode: [19 22 23 28 30 36 39 43 45 46 47 52 58 64 66 69 74 75 85 88 99]\n",
      "Standard Deviation: 23.201087823429233\n"
     ]
    }
   ],
   "source": [
    "# Print the results\n",
    "print(\"Shape of data:\", shape)\n",
    "print(\"Number of rows:\", num_rows)\n",
    "print(\"Number of columns:\", num_columns)\n",
    "print(\"Type of data:\", data_type)\n",
    "print(\"Data types of columns:\\n\", column_data_types)\n",
    "print(\"Column names:\", column_names)\n",
    "print(\"Mean:\", mean)\n",
    "print(\"Median:\", median)\n",
    "print(\"Mode:\", mode)\n",
    "print(\"Standard Deviation:\", std_deviation)"
   ]
  },
  {
   "cell_type": "code",
   "execution_count": null,
   "id": "ebecc987",
   "metadata": {},
   "outputs": [],
   "source": []
  }
 ],
 "metadata": {
  "kernelspec": {
   "display_name": "Python 3 (ipykernel)",
   "language": "python",
   "name": "python3"
  },
  "language_info": {
   "codemirror_mode": {
    "name": "ipython",
    "version": 3
   },
   "file_extension": ".py",
   "mimetype": "text/x-python",
   "name": "python",
   "nbconvert_exporter": "python",
   "pygments_lexer": "ipython3",
   "version": "3.11.4"
  }
 },
 "nbformat": 4,
 "nbformat_minor": 5
}
