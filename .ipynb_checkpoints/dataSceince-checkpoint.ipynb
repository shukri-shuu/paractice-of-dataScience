{
 "cells": [
  {
   "cell_type": "code",
   "execution_count": 31,
   "id": "9e1d45bc",
   "metadata": {},
   "outputs": [],
   "source": [
    "#marka hore waa inaa soo import gretsaa packeges.\n",
    "import statistics as stat\n",
    "import pandas as pd\n",
    "import numpy as np\n"
   ]
  },
  {
   "cell_type": "code",
   "execution_count": 32,
   "id": "1e627e02",
   "metadata": {},
   "outputs": [],
   "source": [
    "df=pd.read_excel(\"C:\\\\Users\\\\applicant income.xlsx\",skiprows = [0])"
   ]
  },
  {
   "cell_type": "code",
   "execution_count": 9,
   "id": "0417ffbb",
   "metadata": {},
   "outputs": [
    {
     "data": {
      "text/html": [
       "<div>\n",
       "<style scoped>\n",
       "    .dataframe tbody tr th:only-of-type {\n",
       "        vertical-align: middle;\n",
       "    }\n",
       "\n",
       "    .dataframe tbody tr th {\n",
       "        vertical-align: top;\n",
       "    }\n",
       "\n",
       "    .dataframe thead th {\n",
       "        text-align: right;\n",
       "    }\n",
       "</style>\n",
       "<table border=\"1\" class=\"dataframe\">\n",
       "  <thead>\n",
       "    <tr style=\"text-align: right;\">\n",
       "      <th></th>\n",
       "      <th>applicant_income</th>\n",
       "    </tr>\n",
       "  </thead>\n",
       "  <tbody>\n",
       "    <tr>\n",
       "      <th>0</th>\n",
       "      <td>74</td>\n",
       "    </tr>\n",
       "    <tr>\n",
       "      <th>1</th>\n",
       "      <td>84</td>\n",
       "    </tr>\n",
       "    <tr>\n",
       "      <th>2</th>\n",
       "      <td>36</td>\n",
       "    </tr>\n",
       "    <tr>\n",
       "      <th>3</th>\n",
       "      <td>59</td>\n",
       "    </tr>\n",
       "    <tr>\n",
       "      <th>4</th>\n",
       "      <td>63</td>\n",
       "    </tr>\n",
       "    <tr>\n",
       "      <th>...</th>\n",
       "      <td>...</td>\n",
       "    </tr>\n",
       "    <tr>\n",
       "      <th>1983</th>\n",
       "      <td>96</td>\n",
       "    </tr>\n",
       "    <tr>\n",
       "      <th>1984</th>\n",
       "      <td>169</td>\n",
       "    </tr>\n",
       "    <tr>\n",
       "      <th>1985</th>\n",
       "      <td>49</td>\n",
       "    </tr>\n",
       "    <tr>\n",
       "      <th>1986</th>\n",
       "      <td>110</td>\n",
       "    </tr>\n",
       "    <tr>\n",
       "      <th>1987</th>\n",
       "      <td>55</td>\n",
       "    </tr>\n",
       "  </tbody>\n",
       "</table>\n",
       "<p>1988 rows × 1 columns</p>\n",
       "</div>"
      ],
      "text/plain": [
       "      applicant_income\n",
       "0                   74\n",
       "1                   84\n",
       "2                   36\n",
       "3                   59\n",
       "4                   63\n",
       "...                ...\n",
       "1983                96\n",
       "1984               169\n",
       "1985                49\n",
       "1986               110\n",
       "1987                55\n",
       "\n",
       "[1988 rows x 1 columns]"
      ]
     },
     "execution_count": 9,
     "metadata": {},
     "output_type": "execute_result"
    }
   ],
   "source": [
    "#waa variable ku soo bandhigayo xogta kugu jirto pass ka kor ku xusan.\n",
    "df"
   ]
  },
  {
   "cell_type": "code",
   "execution_count": 33,
   "id": "f75cd20d",
   "metadata": {},
   "outputs": [],
   "source": [
    "#array ga ubedel list\n",
    "lists = np.array(df)\n",
    "lists.shape\n",
    "data_flatten = lists.flatten()"
   ]
  },
  {
   "cell_type": "code",
   "execution_count": 34,
   "id": "478e558f",
   "metadata": {},
   "outputs": [
    {
     "name": "stdout",
     "output_type": "stream",
     "text": [
      "Celcelista tirooyinka waa : 84.68948163059889\n"
     ]
    }
   ],
   "source": [
    "# 1:Mean\n",
    "# Mean waa celceliska tirooyinka la bixiyay waxaana lagu xisaabiyaa iyadoo la\n",
    "#    qaybinayo wadarta tirooyinka la bixiyay lona qeebinayo wadarta tirada tirooyinka.\n",
    "mean = np.mean(lists)\n",
    "print(f'Celcelista tirooyinka waa :', mean)"
   ]
  },
  {
   "cell_type": "code",
   "execution_count": 35,
   "id": "174f3580",
   "metadata": {},
   "outputs": [
    {
     "name": "stdout",
     "output_type": "stream",
     "text": [
      "lambarka dhexe ee diiwanka waa : 64.0\n"
     ]
    }
   ],
   "source": [
    "# 2:Median\n",
    "#Waa lambarka dhexe ee liiska kor ama hoos u dhacaya ee tirooyinka waxayna noqon kartaa \n",
    "#   mid sifayn badan xogta la dejiyay marka loo eego celceliska.\n",
    "median = np.median(lists)\n",
    "print('lambarka dhexe ee diiwanka waa :', median)\n"
   ]
  },
  {
   "cell_type": "code",
   "execution_count": 37,
   "id": "b3bc4a81",
   "metadata": {},
   "outputs": [
    {
     "name": "stdout",
     "output_type": "stream",
     "text": [
      "Tirooyinka soo naqnaqday waa : 48\n"
     ]
    }
   ],
   "source": [
    "#3: mode\n",
    "# mode waa tiro ka mid ah tirooyinka kusoo naqanaqda inta badan diiwanka. \n",
    "mode = stat.mode(data_flatten.tolist())\n",
    "print('Tirooyinka soo naqnaqday waa :', mode)"
   ]
  },
  {
   "cell_type": "code",
   "execution_count": 27,
   "id": "9b75404a",
   "metadata": {},
   "outputs": [
    {
     "name": "stdout",
     "output_type": "stream",
     "text": [
      "the range of the data: applicant_income    972\n",
      "dtype: int64 Variance: applicant_income    7582.887578\n",
      "dtype: float64 Std: applicant_income    87.079777\n",
      "dtype: float64\n"
     ]
    },
    {
     "name": "stderr",
     "output_type": "stream",
     "text": [
      "C:\\ProgramData\\anaconda3\\Lib\\site-packages\\numpy\\core\\_methods.py:283: FutureWarning: In a future version, DataFrame.max(axis=None) will return a scalar max over the entire DataFrame. To retain the old behavior, use 'frame.max(axis=0)' or just 'frame.max()'\n",
      "  umr_maximum(a, axis, None, out, keepdims),\n",
      "C:\\ProgramData\\anaconda3\\Lib\\site-packages\\numpy\\core\\_methods.py:284: FutureWarning: In a future version, DataFrame.min(axis=None) will return a scalar min over the entire DataFrame. To retain the old behavior, use 'frame.min(axis=0)' or just 'frame.min()'\n",
      "  umr_minimum(a, axis, None, None, keepdims),\n"
     ]
    }
   ],
   "source": [
    "#  tirada inta ey u dhexeyso\n",
    "the_range = np.ptp(df)\n",
    "#  bahsanaanta xogta\n",
    "variance  = np.var(df,ddof=1)\n",
    "std = np.std(df, ddof=1)\n",
    "print(f'the range of the data: {the_range} Variance: {variance} Std: {std}')"
   ]
  },
  {
   "cell_type": "code",
   "execution_count": 38,
   "id": "e0afcac1",
   "metadata": {},
   "outputs": [
    {
     "name": "stdout",
     "output_type": "stream",
     "text": [
      "Quartile_1: 48.0 Quartile_2: 64.0 Quartile_3: 88.0\n"
     ]
    }
   ],
   "source": [
    "# QUARTILES\n",
    "q1 = np.percentile(lists, 25)\n",
    "q2 = np.percentile(lists, 50)\n",
    "q3 = np.percentile(lists,75)\n",
    "print(f'Quartile_1: {q1} Quartile_2: {q2} Quartile_3: {q3}')"
   ]
  },
  {
   "cell_type": "code",
   "execution_count": null,
   "id": "49286722",
   "metadata": {},
   "outputs": [],
   "source": []
  }
 ],
 "metadata": {
  "kernelspec": {
   "display_name": "Python 3 (ipykernel)",
   "language": "python",
   "name": "python3"
  },
  "language_info": {
   "codemirror_mode": {
    "name": "ipython",
    "version": 3
   },
   "file_extension": ".py",
   "mimetype": "text/x-python",
   "name": "python",
   "nbconvert_exporter": "python",
   "pygments_lexer": "ipython3",
   "version": "3.11.4"
  }
 },
 "nbformat": 4,
 "nbformat_minor": 5
}
