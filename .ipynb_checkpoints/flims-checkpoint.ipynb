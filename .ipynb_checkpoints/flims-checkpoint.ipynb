{
 "cells": [
  {
   "cell_type": "markdown",
   "id": "57b1b5c9",
   "metadata": {},
   "source": [
    "               Name:  Shukri Abdullahi Mohamed\n",
    "               Class: CA208\n",
    "               ID:    C120446"
   ]
  },
  {
   "cell_type": "code",
   "execution_count": null,
   "id": "38ebd95f",
   "metadata": {},
   "outputs": [],
   "source": [
    "#importing pandas library\n",
    "import pandas as pd"
   ]
  },
  {
   "cell_type": "code",
   "execution_count": 59,
   "id": "56c95523",
   "metadata": {},
   "outputs": [],
   "source": [
    "df=pd.read_csv(\"movies.csv\")"
   ]
  },
  {
   "cell_type": "code",
   "execution_count": 60,
   "id": "0ecb13c1",
   "metadata": {},
   "outputs": [
    {
     "data": {
      "text/html": [
       "<div>\n",
       "<style scoped>\n",
       "    .dataframe tbody tr th:only-of-type {\n",
       "        vertical-align: middle;\n",
       "    }\n",
       "\n",
       "    .dataframe tbody tr th {\n",
       "        vertical-align: top;\n",
       "    }\n",
       "\n",
       "    .dataframe thead th {\n",
       "        text-align: right;\n",
       "    }\n",
       "</style>\n",
       "<table border=\"1\" class=\"dataframe\">\n",
       "  <thead>\n",
       "    <tr style=\"text-align: right;\">\n",
       "      <th></th>\n",
       "      <th>title</th>\n",
       "      <th>industry</th>\n",
       "      <th>release_year</th>\n",
       "      <th>imdb_rating</th>\n",
       "      <th>studio</th>\n",
       "      <th>budget</th>\n",
       "      <th>revenue</th>\n",
       "      <th>unit</th>\n",
       "      <th>currency</th>\n",
       "      <th>language</th>\n",
       "    </tr>\n",
       "  </thead>\n",
       "  <tbody>\n",
       "    <tr>\n",
       "      <th>0</th>\n",
       "      <td>Pather Panchali</td>\n",
       "      <td>Bollywood</td>\n",
       "      <td>1955</td>\n",
       "      <td>8.3</td>\n",
       "      <td>Government of West Bengal</td>\n",
       "      <td>70000.0</td>\n",
       "      <td>100000.0</td>\n",
       "      <td>Thousands</td>\n",
       "      <td>INR</td>\n",
       "      <td>Bengali</td>\n",
       "    </tr>\n",
       "    <tr>\n",
       "      <th>1</th>\n",
       "      <td>Doctor Strange in the Multiverse of Madness</td>\n",
       "      <td>Hollywood</td>\n",
       "      <td>2022</td>\n",
       "      <td>7.0</td>\n",
       "      <td>Marvel Studios</td>\n",
       "      <td>200.0</td>\n",
       "      <td>954.8</td>\n",
       "      <td>Millions</td>\n",
       "      <td>USD</td>\n",
       "      <td>English</td>\n",
       "    </tr>\n",
       "    <tr>\n",
       "      <th>2</th>\n",
       "      <td>Thor: The Dark World</td>\n",
       "      <td>Hollywood</td>\n",
       "      <td>2013</td>\n",
       "      <td>6.8</td>\n",
       "      <td>Marvel Studios</td>\n",
       "      <td>165.0</td>\n",
       "      <td>644.8</td>\n",
       "      <td>Millions</td>\n",
       "      <td>USD</td>\n",
       "      <td>English</td>\n",
       "    </tr>\n",
       "    <tr>\n",
       "      <th>3</th>\n",
       "      <td>Thor: Ragnarok</td>\n",
       "      <td>Hollywood</td>\n",
       "      <td>2017</td>\n",
       "      <td>7.9</td>\n",
       "      <td>Marvel Studios</td>\n",
       "      <td>180.0</td>\n",
       "      <td>854.0</td>\n",
       "      <td>Millions</td>\n",
       "      <td>USD</td>\n",
       "      <td>English</td>\n",
       "    </tr>\n",
       "    <tr>\n",
       "      <th>4</th>\n",
       "      <td>Thor: Love and Thunder</td>\n",
       "      <td>Hollywood</td>\n",
       "      <td>2022</td>\n",
       "      <td>6.8</td>\n",
       "      <td>Marvel Studios</td>\n",
       "      <td>250.0</td>\n",
       "      <td>670.0</td>\n",
       "      <td>Millions</td>\n",
       "      <td>USD</td>\n",
       "      <td>English</td>\n",
       "    </tr>\n",
       "  </tbody>\n",
       "</table>\n",
       "</div>"
      ],
      "text/plain": [
       "                                         title   industry  release_year  \\\n",
       "0                              Pather Panchali  Bollywood          1955   \n",
       "1  Doctor Strange in the Multiverse of Madness  Hollywood          2022   \n",
       "2                        Thor: The Dark World   Hollywood          2013   \n",
       "3                              Thor: Ragnarok   Hollywood          2017   \n",
       "4                      Thor: Love and Thunder   Hollywood          2022   \n",
       "\n",
       "   imdb_rating                     studio   budget   revenue       unit  \\\n",
       "0          8.3  Government of West Bengal  70000.0  100000.0  Thousands   \n",
       "1          7.0             Marvel Studios    200.0     954.8   Millions   \n",
       "2          6.8             Marvel Studios    165.0     644.8   Millions   \n",
       "3          7.9             Marvel Studios    180.0     854.0   Millions   \n",
       "4          6.8             Marvel Studios    250.0     670.0   Millions   \n",
       "\n",
       "  currency language  \n",
       "0      INR  Bengali  \n",
       "1      USD  English  \n",
       "2      USD  English  \n",
       "3      USD  English  \n",
       "4      USD  English  "
      ]
     },
     "execution_count": 60,
     "metadata": {},
     "output_type": "execute_result"
    }
   ],
   "source": [
    "df.head()"
   ]
  },
  {
   "cell_type": "code",
   "execution_count": 61,
   "id": "22aa6315",
   "metadata": {},
   "outputs": [
    {
     "data": {
      "text/plain": [
       "pandas.core.frame.DataFrame"
      ]
     },
     "execution_count": 61,
     "metadata": {},
     "output_type": "execute_result"
    }
   ],
   "source": [
    "type(df)"
   ]
  },
  {
   "cell_type": "code",
   "execution_count": 62,
   "id": "d72fa527",
   "metadata": {},
   "outputs": [
    {
     "data": {
      "text/plain": [
       "(37, 10)"
      ]
     },
     "execution_count": 62,
     "metadata": {},
     "output_type": "execute_result"
    }
   ],
   "source": [
    "df.shape"
   ]
  },
  {
   "cell_type": "markdown",
   "id": "ab17f9f2",
   "metadata": {},
   "source": [
    "  inta columns ay ka koban tahay data dena"
   ]
  },
  {
   "cell_type": "code",
   "execution_count": 6,
   "id": "e0f694aa",
   "metadata": {},
   "outputs": [
    {
     "data": {
      "text/plain": [
       "Index(['title', 'industry', 'release_year', 'imdb_rating', 'studio', 'budget',\n",
       "       'revenue', 'unit', 'currency', 'language'],\n",
       "      dtype='object')"
      ]
     },
     "execution_count": 6,
     "metadata": {},
     "output_type": "execute_result"
    }
   ],
   "source": [
    "df.columns"
   ]
  },
  {
   "cell_type": "markdown",
   "id": "c24c1dbb",
   "metadata": {},
   "source": [
    "  inta  flim o ku jirto data "
   ]
  },
  {
   "cell_type": "code",
   "execution_count": 7,
   "id": "82d0beb0",
   "metadata": {},
   "outputs": [
    {
     "data": {
      "text/plain": [
       "37"
      ]
     },
     "execution_count": 7,
     "metadata": {},
     "output_type": "execute_result"
    }
   ],
   "source": [
    "len(df)"
   ]
  },
  {
   "cell_type": "markdown",
   "id": "561ba7fc",
   "metadata": {},
   "source": [
    " info waxa uu ku shega data da hade ku jiran column banaa ama row bana"
   ]
  },
  {
   "cell_type": "code",
   "execution_count": 8,
   "id": "1ae16e91",
   "metadata": {},
   "outputs": [
    {
     "name": "stdout",
     "output_type": "stream",
     "text": [
      "<class 'pandas.core.frame.DataFrame'>\n",
      "RangeIndex: 37 entries, 0 to 36\n",
      "Data columns (total 10 columns):\n",
      " #   Column        Non-Null Count  Dtype  \n",
      "---  ------        --------------  -----  \n",
      " 0   title         37 non-null     object \n",
      " 1   industry      37 non-null     object \n",
      " 2   release_year  37 non-null     int64  \n",
      " 3   imdb_rating   36 non-null     float64\n",
      " 4   studio        34 non-null     object \n",
      " 5   budget        37 non-null     float64\n",
      " 6   revenue       37 non-null     float64\n",
      " 7   unit          37 non-null     object \n",
      " 8   currency      37 non-null     object \n",
      " 9   language      37 non-null     object \n",
      "dtypes: float64(3), int64(1), object(6)\n",
      "memory usage: 3.0+ KB\n"
     ]
    }
   ],
   "source": [
    "df.info()"
   ]
  },
  {
   "cell_type": "markdown",
   "id": "408001ef",
   "metadata": {},
   "source": [
    " waxa uu xisabina count ,mean,std, min, max, 25% ila 75%"
   ]
  },
  {
   "cell_type": "code",
   "execution_count": 9,
   "id": "bae5f071",
   "metadata": {},
   "outputs": [
    {
     "data": {
      "text/html": [
       "<div>\n",
       "<style scoped>\n",
       "    .dataframe tbody tr th:only-of-type {\n",
       "        vertical-align: middle;\n",
       "    }\n",
       "\n",
       "    .dataframe tbody tr th {\n",
       "        vertical-align: top;\n",
       "    }\n",
       "\n",
       "    .dataframe thead th {\n",
       "        text-align: right;\n",
       "    }\n",
       "</style>\n",
       "<table border=\"1\" class=\"dataframe\">\n",
       "  <thead>\n",
       "    <tr style=\"text-align: right;\">\n",
       "      <th></th>\n",
       "      <th>release_year</th>\n",
       "      <th>imdb_rating</th>\n",
       "      <th>budget</th>\n",
       "      <th>revenue</th>\n",
       "    </tr>\n",
       "  </thead>\n",
       "  <tbody>\n",
       "    <tr>\n",
       "      <th>count</th>\n",
       "      <td>37.000000</td>\n",
       "      <td>36.000000</td>\n",
       "      <td>37.000000</td>\n",
       "      <td>37.000000</td>\n",
       "    </tr>\n",
       "    <tr>\n",
       "      <th>mean</th>\n",
       "      <td>2007.027027</td>\n",
       "      <td>7.919444</td>\n",
       "      <td>2084.975135</td>\n",
       "      <td>4117.135135</td>\n",
       "    </tr>\n",
       "    <tr>\n",
       "      <th>std</th>\n",
       "      <td>17.657995</td>\n",
       "      <td>1.204947</td>\n",
       "      <td>11477.487145</td>\n",
       "      <td>16372.462682</td>\n",
       "    </tr>\n",
       "    <tr>\n",
       "      <th>min</th>\n",
       "      <td>1946.000000</td>\n",
       "      <td>1.900000</td>\n",
       "      <td>1.000000</td>\n",
       "      <td>3.100000</td>\n",
       "    </tr>\n",
       "    <tr>\n",
       "      <th>25%</th>\n",
       "      <td>2001.000000</td>\n",
       "      <td>7.800000</td>\n",
       "      <td>15.500000</td>\n",
       "      <td>263.100000</td>\n",
       "    </tr>\n",
       "    <tr>\n",
       "      <th>50%</th>\n",
       "      <td>2014.000000</td>\n",
       "      <td>8.100000</td>\n",
       "      <td>165.000000</td>\n",
       "      <td>701.800000</td>\n",
       "    </tr>\n",
       "    <tr>\n",
       "      <th>75%</th>\n",
       "      <td>2018.000000</td>\n",
       "      <td>8.400000</td>\n",
       "      <td>250.000000</td>\n",
       "      <td>2000.000000</td>\n",
       "    </tr>\n",
       "    <tr>\n",
       "      <th>max</th>\n",
       "      <td>2022.000000</td>\n",
       "      <td>9.300000</td>\n",
       "      <td>70000.000000</td>\n",
       "      <td>100000.000000</td>\n",
       "    </tr>\n",
       "  </tbody>\n",
       "</table>\n",
       "</div>"
      ],
      "text/plain": [
       "       release_year  imdb_rating        budget        revenue\n",
       "count     37.000000    36.000000     37.000000      37.000000\n",
       "mean    2007.027027     7.919444   2084.975135    4117.135135\n",
       "std       17.657995     1.204947  11477.487145   16372.462682\n",
       "min     1946.000000     1.900000      1.000000       3.100000\n",
       "25%     2001.000000     7.800000     15.500000     263.100000\n",
       "50%     2014.000000     8.100000    165.000000     701.800000\n",
       "75%     2018.000000     8.400000    250.000000    2000.000000\n",
       "max     2022.000000     9.300000  70000.000000  100000.000000"
      ]
     },
     "execution_count": 9,
     "metadata": {},
     "output_type": "execute_result"
    }
   ],
   "source": [
    "df.describe()"
   ]
  },
  {
   "cell_type": "markdown",
   "id": "b64423b6",
   "metadata": {},
   "source": [
    "  flimka ugu fa iidada badan"
   ]
  },
  {
   "cell_type": "code",
   "execution_count": 10,
   "id": "ac03c770",
   "metadata": {},
   "outputs": [],
   "source": [
    "df['profit']=df['revenue']-df['budget']"
   ]
  },
  {
   "cell_type": "code",
   "execution_count": 11,
   "id": "c1c4562c",
   "metadata": {},
   "outputs": [],
   "source": [
    "max_index_profit=df[\"profit\"].idxmax()"
   ]
  },
  {
   "cell_type": "code",
   "execution_count": 12,
   "id": "b78d6da3",
   "metadata": {},
   "outputs": [],
   "source": [
    "max_profit_flim=df.loc[max_index_profit]"
   ]
  },
  {
   "cell_type": "code",
   "execution_count": 13,
   "id": "83509baf",
   "metadata": {},
   "outputs": [
    {
     "data": {
      "text/plain": [
       "title                     Pather Panchali\n",
       "industry                        Bollywood\n",
       "release_year                         1955\n",
       "imdb_rating                           8.3\n",
       "studio          Government of West Bengal\n",
       "budget                            70000.0\n",
       "revenue                          100000.0\n",
       "unit                            Thousands\n",
       "currency                              INR\n",
       "language                          Bengali\n",
       "profit                            30000.0\n",
       "Name: 0, dtype: object"
      ]
     },
     "execution_count": 13,
     "metadata": {},
     "output_type": "execute_result"
    }
   ],
   "source": [
    "max_profit_flim"
   ]
  },
  {
   "cell_type": "markdown",
   "id": "caa66578",
   "metadata": {},
   "source": [
    "  flimka ugu fa iidada yar"
   ]
  },
  {
   "cell_type": "code",
   "execution_count": 14,
   "id": "16d2797c",
   "metadata": {},
   "outputs": [],
   "source": [
    "min_profit_index=df['profit'].idxmin()"
   ]
  },
  {
   "cell_type": "code",
   "execution_count": 15,
   "id": "ac3fb90b",
   "metadata": {},
   "outputs": [],
   "source": [
    "min_profit_flim=df.loc[min_profit_index]"
   ]
  },
  {
   "cell_type": "code",
   "execution_count": 16,
   "id": "b4341507",
   "metadata": {},
   "outputs": [
    {
     "data": {
      "text/plain": [
       "title           It's a Wonderful Life\n",
       "industry                    Hollywood\n",
       "release_year                     1946\n",
       "imdb_rating                       8.6\n",
       "studio                  Liberty Films\n",
       "budget                           3.18\n",
       "revenue                           3.3\n",
       "unit                         Millions\n",
       "currency                          USD\n",
       "language                      English\n",
       "profit                           0.12\n",
       "Name: 10, dtype: object"
      ]
     },
     "execution_count": 16,
     "metadata": {},
     "output_type": "execute_result"
    }
   ],
   "source": [
    "min_profit_flim"
   ]
  },
  {
   "cell_type": "markdown",
   "id": "99774f56",
   "metadata": {},
   "source": [
    " inta luqad ee lagu jilay flimska"
   ]
  },
  {
   "cell_type": "code",
   "execution_count": 17,
   "id": "d6772868",
   "metadata": {},
   "outputs": [
    {
     "data": {
      "text/plain": [
       "array(['Bengali', 'English', 'Hindi', 'Kannada', 'Telugu'], dtype=object)"
      ]
     },
     "execution_count": 17,
     "metadata": {},
     "output_type": "execute_result"
    }
   ],
   "source": [
    "df.language.unique()"
   ]
  },
  {
   "cell_type": "markdown",
   "id": "258f3ee6",
   "metadata": {},
   "source": [
    " luqad kasta inta flim lagu jilay"
   ]
  },
  {
   "cell_type": "code",
   "execution_count": 18,
   "id": "a9b44ce0",
   "metadata": {},
   "outputs": [
    {
     "data": {
      "text/plain": [
       "English    20\n",
       "Hindi      12\n",
       "Telugu      3\n",
       "Bengali     1\n",
       "Kannada     1\n",
       "Name: language, dtype: int64"
      ]
     },
     "execution_count": 18,
     "metadata": {},
     "output_type": "execute_result"
    }
   ],
   "source": [
    "df.language.value_counts()"
   ]
  },
  {
   "cell_type": "markdown",
   "id": "317cb862",
   "metadata": {},
   "source": [
    " luqada hindi ga flimka ugu fa iidada badan"
   ]
  },
  {
   "cell_type": "code",
   "execution_count": 55,
   "id": "b4c1f4fa",
   "metadata": {},
   "outputs": [],
   "source": [
    "hind_max_idx=df['profit'][df['industry']==\"Bollywood\"].idxmax()"
   ]
  },
  {
   "cell_type": "code",
   "execution_count": 56,
   "id": "eb70d986",
   "metadata": {},
   "outputs": [],
   "source": [
    "hindi_max_profit_flim=df.loc[hind_max_idx]"
   ]
  },
  {
   "cell_type": "code",
   "execution_count": 57,
   "id": "898c4764",
   "metadata": {
    "scrolled": true
   },
   "outputs": [
    {
     "data": {
      "text/plain": [
       "title                     Pather Panchali\n",
       "industry                        Bollywood\n",
       "release_year                         1955\n",
       "imdb_rating                           8.3\n",
       "studio          Government of West Bengal\n",
       "budget                            70000.0\n",
       "revenue                          100000.0\n",
       "unit                            Thousands\n",
       "currency                              INR\n",
       "language                          Bengali\n",
       "profit                            30000.0\n",
       "Name: 0, dtype: object"
      ]
     },
     "execution_count": 57,
     "metadata": {},
     "output_type": "execute_result"
    }
   ],
   "source": [
    "hindi_max_profit_flim"
   ]
  },
  {
   "cell_type": "markdown",
   "id": "d2c80171",
   "metadata": {},
   "source": [
    " luqada english ka flimka ugu fa iidada badan"
   ]
  },
  {
   "cell_type": "code",
   "execution_count": 44,
   "id": "1a837a10",
   "metadata": {},
   "outputs": [],
   "source": [
    "Englis_max_idx=df['profit'][df['industry']==\"Hollywood\"].idxmax()"
   ]
  },
  {
   "cell_type": "code",
   "execution_count": 45,
   "id": "30bb2591",
   "metadata": {},
   "outputs": [],
   "source": [
    "English_max_profit_flim=df.loc[Englis_max_idx]"
   ]
  },
  {
   "cell_type": "code",
   "execution_count": 46,
   "id": "ecd3179e",
   "metadata": {},
   "outputs": [
    {
     "data": {
      "text/plain": [
       "title                     Avatar\n",
       "industry               Hollywood\n",
       "release_year                2009\n",
       "imdb_rating                  7.8\n",
       "studio          20th Century Fox\n",
       "budget                     237.0\n",
       "revenue                   2847.0\n",
       "unit                    Millions\n",
       "currency                     USD\n",
       "language                 English\n",
       "profit                    2610.0\n",
       "Name: 11, dtype: object"
      ]
     },
     "execution_count": 46,
     "metadata": {},
     "output_type": "execute_result"
    }
   ],
   "source": [
    "English_max_profit_flim"
   ]
  },
  {
   "cell_type": "markdown",
   "id": "86c98b2a",
   "metadata": {},
   "source": [
    " inta flim oo lagu  jilay hollywood ama bollywood"
   ]
  },
  {
   "cell_type": "code",
   "execution_count": 25,
   "id": "43fddbc5",
   "metadata": {},
   "outputs": [
    {
     "data": {
      "text/plain": [
       "Hollywood    20\n",
       "Bollywood    17\n",
       "Name: industry, dtype: int64"
      ]
     },
     "execution_count": 25,
     "metadata": {},
     "output_type": "execute_result"
    }
   ],
   "source": [
    "df.industry.value_counts()"
   ]
  },
  {
   "cell_type": "markdown",
   "id": "a1a01b75",
   "metadata": {},
   "source": [
    " inta lacag laga helay  flimska "
   ]
  },
  {
   "cell_type": "code",
   "execution_count": 26,
   "id": "faffe9c6",
   "metadata": {},
   "outputs": [
    {
     "data": {
      "text/plain": [
       "array(['Thousands', 'Millions', 'Billions'], dtype=object)"
      ]
     },
     "execution_count": 26,
     "metadata": {},
     "output_type": "execute_result"
    }
   ],
   "source": [
    "df.unit.unique()"
   ]
  },
  {
   "cell_type": "markdown",
   "id": "6e97ee46",
   "metadata": {},
   "source": [
    " flimka ugu badan ee Billions so xareyay"
   ]
  },
  {
   "cell_type": "code",
   "execution_count": 27,
   "id": "d0f8c5d0",
   "metadata": {},
   "outputs": [],
   "source": [
    "max_billions_profit_flim=df['profit'][df['unit']=='Millions'].idxmax()"
   ]
  },
  {
   "cell_type": "code",
   "execution_count": 28,
   "id": "3b167b60",
   "metadata": {},
   "outputs": [],
   "source": [
    "max_flim_billions=df.loc[max_billions_profit_flim]"
   ]
  },
  {
   "cell_type": "code",
   "execution_count": 29,
   "id": "1dc5ae17",
   "metadata": {
    "scrolled": true
   },
   "outputs": [
    {
     "data": {
      "text/plain": [
       "title           Bajrangi Bhaijaan\n",
       "industry                Bollywood\n",
       "release_year                 2015\n",
       "imdb_rating                   8.1\n",
       "studio          Salman Khan Films\n",
       "budget                      900.0\n",
       "revenue                   11690.0\n",
       "unit                     Millions\n",
       "currency                      INR\n",
       "language                    Hindi\n",
       "profit                    10790.0\n",
       "Name: 30, dtype: object"
      ]
     },
     "execution_count": 29,
     "metadata": {},
     "output_type": "execute_result"
    }
   ],
   "source": [
    "max_flim_billions"
   ]
  },
  {
   "cell_type": "markdown",
   "id": "47eb5429",
   "metadata": {},
   "source": [
    "  flimka ugu badan ee Millions so xareyay"
   ]
  },
  {
   "cell_type": "code",
   "execution_count": 30,
   "id": "749205b7",
   "metadata": {},
   "outputs": [],
   "source": [
    "max_Millions_profit_flim=df['profit'][df['unit']=='Billions'].idxmax()"
   ]
  },
  {
   "cell_type": "code",
   "execution_count": 31,
   "id": "825c634e",
   "metadata": {},
   "outputs": [],
   "source": [
    "max_flim_Millions=df.loc[max_Millions_profit_flim]"
   ]
  },
  {
   "cell_type": "code",
   "execution_count": 32,
   "id": "75feb4fc",
   "metadata": {},
   "outputs": [
    {
     "data": {
      "text/plain": [
       "title           K.G.F: Chapter 2\n",
       "industry               Bollywood\n",
       "release_year                2022\n",
       "imdb_rating                  8.4\n",
       "studio             Hombale Films\n",
       "budget                       1.0\n",
       "revenue                     12.5\n",
       "unit                    Billions\n",
       "currency                     INR\n",
       "language                 Kannada\n",
       "profit                      11.5\n",
       "Name: 33, dtype: object"
      ]
     },
     "execution_count": 32,
     "metadata": {},
     "output_type": "execute_result"
    }
   ],
   "source": [
    "max_flim_Millions"
   ]
  },
  {
   "cell_type": "markdown",
   "id": "3eec6593",
   "metadata": {},
   "source": [
    " luqada Telugu ka flimka ugu fa iidada badan"
   ]
  },
  {
   "cell_type": "code",
   "execution_count": 50,
   "id": "794ff24e",
   "metadata": {},
   "outputs": [],
   "source": [
    "Telugu_max_idx=df['profit'][df['language']==\"Telugu\"].idxmax()"
   ]
  },
  {
   "cell_type": "code",
   "execution_count": 51,
   "id": "c8379104",
   "metadata": {},
   "outputs": [],
   "source": [
    "Telugu_max_profit_flim=df.loc[Telugu_max_idx]"
   ]
  },
  {
   "cell_type": "code",
   "execution_count": 52,
   "id": "e0bc87de",
   "metadata": {},
   "outputs": [
    {
     "data": {
      "text/plain": [
       "title                         RRR\n",
       "industry                Bollywood\n",
       "release_year                 2022\n",
       "imdb_rating                   8.0\n",
       "studio          DVV Entertainment\n",
       "budget                        5.5\n",
       "revenue                      12.0\n",
       "unit                     Billions\n",
       "currency                      INR\n",
       "language                   Telugu\n",
       "profit                        6.5\n",
       "Name: 35, dtype: object"
      ]
     },
     "execution_count": 52,
     "metadata": {},
     "output_type": "execute_result"
    }
   ],
   "source": [
    "Telugu_max_profit_flim"
   ]
  },
  {
   "cell_type": "markdown",
   "id": "e01012c4",
   "metadata": {},
   "source": [
    " dhaman lacagaha ee so xareyen flimska iyo lacagaha lagu bixiyaya"
   ]
  },
  {
   "cell_type": "code",
   "execution_count": 39,
   "id": "5608b462",
   "metadata": {},
   "outputs": [],
   "source": [
    "df['profit'] = df['revenue']- df['budget']"
   ]
  },
  {
   "cell_type": "code",
   "execution_count": 41,
   "id": "dd2c4c81",
   "metadata": {},
   "outputs": [
    {
     "data": {
      "text/plain": [
       "0     30000.00\n",
       "1       754.80\n",
       "2       479.80\n",
       "3       674.00\n",
       "4       420.00\n",
       "5        48.30\n",
       "6       536.80\n",
       "7       252.10\n",
       "8       357.50\n",
       "9      2002.00\n",
       "10        0.12\n",
       "11     2610.00\n",
       "12      283.80\n",
       "13      821.00\n",
       "14      300.20\n",
       "15      983.00\n",
       "16      247.60\n",
       "17     2398.00\n",
       "18     1648.00\n",
       "19      153.90\n",
       "20      537.40\n",
       "21     1600.00\n",
       "22     3450.00\n",
       "23      970.00\n",
       "24        2.10\n",
       "25     1230.00\n",
       "26      310.00\n",
       "27     7690.00\n",
       "28        4.90\n",
       "29     3159.00\n",
       "30    10790.00\n",
       "31        1.30\n",
       "32      450.00\n",
       "33       11.50\n",
       "34        1.60\n",
       "35        6.50\n",
       "36        4.70\n",
       "Name: profit, dtype: float64"
      ]
     },
     "execution_count": 41,
     "metadata": {},
     "output_type": "execute_result"
    }
   ],
   "source": [
    "df['profit']"
   ]
  }
 ],
 "metadata": {
  "kernelspec": {
   "display_name": "Python 3 (ipykernel)",
   "language": "python",
   "name": "python3"
  },
  "language_info": {
   "codemirror_mode": {
    "name": "ipython",
    "version": 3
   },
   "file_extension": ".py",
   "mimetype": "text/x-python",
   "name": "python",
   "nbconvert_exporter": "python",
   "pygments_lexer": "ipython3",
   "version": "3.11.4"
  }
 },
 "nbformat": 4,
 "nbformat_minor": 5
}
